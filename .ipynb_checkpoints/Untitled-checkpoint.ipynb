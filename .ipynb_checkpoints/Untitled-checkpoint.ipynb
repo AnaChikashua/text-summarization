{
 "cells": [
  {
   "cell_type": "code",
   "execution_count": 1,
   "id": "36bea8d1",
   "metadata": {},
   "outputs": [],
   "source": [
    "!pip install ohmeow-blurr -q\n",
    "!pip install bert-score -q"
   ]
  },
  {
   "cell_type": "code",
   "execution_count": 3,
   "id": "391f5ba3",
   "metadata": {
    "collapsed": true
   },
   "outputs": [
    {
     "name": "stdout",
     "output_type": "stream",
     "text": [
      "Collecting pytest\n",
      "  Downloading pytest-7.4.0-py3-none-any.whl (323 kB)\n",
      "\u001b[2K     \u001b[90m━━━━━━━━━━━━━━━━━━━━━━━━━━━━━━━━━━━━━━━\u001b[0m \u001b[32m323.6/323.6 kB\u001b[0m \u001b[31m1.6 MB/s\u001b[0m eta \u001b[36m0:00:00\u001b[0ma \u001b[36m0:00:01\u001b[0m\n",
      "\u001b[?25hCollecting iniconfig (from pytest)\n",
      "  Downloading iniconfig-2.0.0-py3-none-any.whl (5.9 kB)\n",
      "Requirement already satisfied: packaging in ./venv-summarization/lib/python3.10/site-packages (from pytest) (23.1)\n",
      "Collecting pluggy<2.0,>=0.12 (from pytest)\n",
      "  Downloading pluggy-1.2.0-py3-none-any.whl (17 kB)\n",
      "Requirement already satisfied: exceptiongroup>=1.0.0rc8 in ./venv-summarization/lib/python3.10/site-packages (from pytest) (1.1.1)\n",
      "Collecting tomli>=1.0.0 (from pytest)\n",
      "  Using cached tomli-2.0.1-py3-none-any.whl (12 kB)\n",
      "Installing collected packages: tomli, pluggy, iniconfig, pytest\n",
      "Successfully installed iniconfig-2.0.0 pluggy-1.2.0 pytest-7.4.0 tomli-2.0.1\n"
     ]
    }
   ],
   "source": [
    "!pip install pytest"
   ]
  },
  {
   "cell_type": "code",
   "execution_count": 5,
   "id": "e18be3c1",
   "metadata": {
    "collapsed": true
   },
   "outputs": [
    {
     "name": "stdout",
     "output_type": "stream",
     "text": [
      "Collecting blurr\n",
      "  Downloading blurr-0.4.1-py3-none-any.whl (52 kB)\n",
      "\u001b[2K     \u001b[90m━━━━━━━━━━━━━━━━━━━━━━━━━━━━━━━━━━━━━━━\u001b[0m \u001b[32m52.9/52.9 kB\u001b[0m \u001b[31m556.2 kB/s\u001b[0m eta \u001b[36m0:00:00\u001b[0ma \u001b[36m0:00:01\u001b[0m\n",
      "\u001b[?25hRequirement already satisfied: pyyaml in ./venv-summarization/lib/python3.10/site-packages (from blurr) (6.0)\n",
      "Requirement already satisfied: python-dateutil in ./venv-summarization/lib/python3.10/site-packages (from blurr) (2.8.2)\n",
      "Collecting docopt (from blurr)\n",
      "  Downloading docopt-0.6.2.tar.gz (25 kB)\n",
      "  Preparing metadata (setup.py) ... \u001b[?25ldone\n",
      "\u001b[?25hCollecting boto3 (from blurr)\n",
      "  Downloading boto3-1.26.165-py3-none-any.whl (135 kB)\n",
      "\u001b[2K     \u001b[90m━━━━━━━━━━━━━━━━━━━━━━━━━━━━━━━━━━━━━━━\u001b[0m \u001b[32m135.9/135.9 kB\u001b[0m \u001b[31m1.5 MB/s\u001b[0m eta \u001b[36m0:00:00\u001b[0m00:01\u001b[0m00:01\u001b[0m\n",
      "\u001b[?25hRequirement already satisfied: smart-open in ./venv-summarization/lib/python3.10/site-packages (from blurr) (6.3.0)\n",
      "Collecting botocore<1.30.0,>=1.29.165 (from boto3->blurr)\n",
      "  Downloading botocore-1.29.165-py3-none-any.whl (11.0 MB)\n",
      "\u001b[2K     \u001b[90m━━━━━━━━━━━━━━━━━━━━━━━━━━━━━━━━━━━━━━━━\u001b[0m \u001b[32m11.0/11.0 MB\u001b[0m \u001b[31m1.7 MB/s\u001b[0m eta \u001b[36m0:00:00\u001b[0m00:01\u001b[0m00:01\u001b[0m\n",
      "\u001b[?25hCollecting jmespath<2.0.0,>=0.7.1 (from boto3->blurr)\n",
      "  Downloading jmespath-1.0.1-py3-none-any.whl (20 kB)\n",
      "Collecting s3transfer<0.7.0,>=0.6.0 (from boto3->blurr)\n",
      "  Downloading s3transfer-0.6.1-py3-none-any.whl (79 kB)\n",
      "\u001b[2K     \u001b[90m━━━━━━━━━━━━━━━━━━━━━━━━━━━━━━━━━━━━━━━\u001b[0m \u001b[32m79.8/79.8 kB\u001b[0m \u001b[31m830.0 kB/s\u001b[0m eta \u001b[36m0:00:00\u001b[0m \u001b[36m0:00:01\u001b[0m\n",
      "\u001b[?25hRequirement already satisfied: six>=1.5 in ./venv-summarization/lib/python3.10/site-packages (from python-dateutil->blurr) (1.16.0)\n",
      "Requirement already satisfied: urllib3<1.27,>=1.25.4 in ./venv-summarization/lib/python3.10/site-packages (from botocore<1.30.0,>=1.29.165->boto3->blurr) (1.26.16)\n",
      "Building wheels for collected packages: docopt\n",
      "  Building wheel for docopt (setup.py) ... \u001b[?25ldone\n",
      "\u001b[?25h  Created wheel for docopt: filename=docopt-0.6.2-py2.py3-none-any.whl size=13705 sha256=30dea49106be832c3d29b00208e79ae1dd031535fa251f83fde717f00e25d3ff\n",
      "  Stored in directory: /Users/intrro/Library/Caches/pip/wheels/fc/ab/d4/5da2067ac95b36618c629a5f93f809425700506f72c9732fac\n",
      "Successfully built docopt\n",
      "Installing collected packages: docopt, jmespath, botocore, s3transfer, boto3, blurr\n",
      "Successfully installed blurr-0.4.1 boto3-1.26.165 botocore-1.29.165 docopt-0.6.2 jmespath-1.0.1 s3transfer-0.6.1\n"
     ]
    }
   ],
   "source": [
    "!pip install blurr"
   ]
  },
  {
   "cell_type": "code",
   "execution_count": 82,
   "id": "9e1cded9",
   "metadata": {},
   "outputs": [
    {
     "data": {
      "text/html": [
       "<div>\n",
       "<style scoped>\n",
       "    .dataframe tbody tr th:only-of-type {\n",
       "        vertical-align: middle;\n",
       "    }\n",
       "\n",
       "    .dataframe tbody tr th {\n",
       "        vertical-align: top;\n",
       "    }\n",
       "\n",
       "    .dataframe thead th {\n",
       "        text-align: right;\n",
       "    }\n",
       "</style>\n",
       "<table border=\"1\" class=\"dataframe\">\n",
       "  <thead>\n",
       "    <tr style=\"text-align: right;\">\n",
       "      <th></th>\n",
       "      <th>title</th>\n",
       "      <th>text</th>\n",
       "    </tr>\n",
       "  </thead>\n",
       "  <tbody>\n",
       "    <tr>\n",
       "      <th>0</th>\n",
       "      <td>The words Extraordinary Claims needs to be banished when talking Extraterrestrials</td>\n",
       "      <td>The words Extraordinary Claims needs to be banished when talking Extraterrestrials page: 1 link I was reading an article that talked about Extraterrestrials the other day and of course at the end of the article the tired line about Extraordinary measures....blah, blah, blah came out towards the end of the article. This needs to stop when talking about Extraterrestrials. It may have been an extraordinary claim 60 years ago but it's not today. With the scientific evidence we have today, many people including one of the top Scientist of our time has reached the conclusion that Extraterrestria...</td>\n",
       "    </tr>\n",
       "    <tr>\n",
       "      <th>1</th>\n",
       "      <td>We Know The Truth</td>\n",
       "      <td>link Hey People: I always enjoy your threads, though I think you focus too much on a singular belief issue or pattern, and then it becomes self affirming for you in your research. First, this: But voices actual voices in your head is always mental illness. Sorry, maybe a stress reaction, not to be judgmental, happens to the best and such, just really not what I am trying to convey here. Though I believe you are quite intelligent, I don't think you are qualified, exactly, to make that wholesale, definitive judgement. You even contradict that by referencing Dr. Vinod's \"channeling\" of the Ni...</td>\n",
       "    </tr>\n",
       "    <tr>\n",
       "      <th>2</th>\n",
       "      <td>UFO over the East Valley here in AZ last night.</td>\n",
       "      <td>UFO over the East Valley here in AZ last night. page: 1 link I couldn't take any pictures I live in West Mesa and the lights were way East. Over Queen Creek area. Lots of my friends and family started calling me right when the lights started happening so I went out to my balcony and there they were. Some people got some pretty good videos. I know some people will say they are flares from a plane but if they are flares why do they dispensary right away. Typically if its a flare it will stay ignited for a short period of time. Kinda nuts. I only witnessed the later 3 lights when it was dark ...</td>\n",
       "    </tr>\n",
       "    <tr>\n",
       "      <th>3</th>\n",
       "      <td>Found this nugget in Podesta files Fastwalkers and DSP Program</td>\n",
       "      <td>Found this nugget in Podesta files Fastwalkers and DSP Program page: 1 Found this in the Podesta files, ID # 30433. It's probably well known already, just thought I'd post it just in case. Podesta had forwarded this letter he received onto Leslie Kean. Date: 2015-03-06 John – Just tuck this in your UFO files for future reference. One of the government programs that collects hard data on unidentified flying objects is the USAF DSP satellite program. I can add a little insight to rumors published on the web. While I was never fully briefed into the DSP operation directly, I was introduced to...</td>\n",
       "    </tr>\n",
       "    <tr>\n",
       "      <th>4</th>\n",
       "      <td>EMP event forthcoming?</td>\n",
       "      <td>You have a work bunker? What is it exactly that you do? Man if the world went to crap, the last thing i would be concerned about is ensuring my employer keeps the loot rolling in lol. In fact if that does go down, im jumping in my truck with a motivational \"item\" and coming to work to stock up. The mine site has enough food for 500 people a for 2 weeks at a time. I live out in the country. Im On well water, 1000 liter propane tank for heat and out door boiler. The genny is hooked up to a 400 liter gas storage container. My house that im building up the road from my current house already ha...</td>\n",
       "    </tr>\n",
       "  </tbody>\n",
       "</table>\n",
       "</div>"
      ],
      "text/plain": [
       "                                                                                title  \\\n",
       "0  The words Extraordinary Claims needs to be banished when talking Extraterrestrials   \n",
       "1                                                                   We Know The Truth   \n",
       "2                                     UFO over the East Valley here in AZ last night.   \n",
       "3                      Found this nugget in Podesta files Fastwalkers and DSP Program   \n",
       "4                                                              EMP event forthcoming?   \n",
       "\n",
       "                                                                                                                                                                                                                                                                                                                                                                                                                                                                                                                                                                                                                      text  \n",
       "0  The words Extraordinary Claims needs to be banished when talking Extraterrestrials page: 1 link I was reading an article that talked about Extraterrestrials the other day and of course at the end of the article the tired line about Extraordinary measures....blah, blah, blah came out towards the end of the article. This needs to stop when talking about Extraterrestrials. It may have been an extraordinary claim 60 years ago but it's not today. With the scientific evidence we have today, many people including one of the top Scientist of our time has reached the conclusion that Extraterrestria...  \n",
       "1  link Hey People: I always enjoy your threads, though I think you focus too much on a singular belief issue or pattern, and then it becomes self affirming for you in your research. First, this: But voices actual voices in your head is always mental illness. Sorry, maybe a stress reaction, not to be judgmental, happens to the best and such, just really not what I am trying to convey here. Though I believe you are quite intelligent, I don't think you are qualified, exactly, to make that wholesale, definitive judgement. You even contradict that by referencing Dr. Vinod's \"channeling\" of the Ni...  \n",
       "2  UFO over the East Valley here in AZ last night. page: 1 link I couldn't take any pictures I live in West Mesa and the lights were way East. Over Queen Creek area. Lots of my friends and family started calling me right when the lights started happening so I went out to my balcony and there they were. Some people got some pretty good videos. I know some people will say they are flares from a plane but if they are flares why do they dispensary right away. Typically if its a flare it will stay ignited for a short period of time. Kinda nuts. I only witnessed the later 3 lights when it was dark ...  \n",
       "3  Found this nugget in Podesta files Fastwalkers and DSP Program page: 1 Found this in the Podesta files, ID # 30433. It's probably well known already, just thought I'd post it just in case. Podesta had forwarded this letter he received onto Leslie Kean. Date: 2015-03-06 John – Just tuck this in your UFO files for future reference. One of the government programs that collects hard data on unidentified flying objects is the USAF DSP satellite program. I can add a little insight to rumors published on the web. While I was never fully briefed into the DSP operation directly, I was introduced to...  \n",
       "4  You have a work bunker? What is it exactly that you do? Man if the world went to crap, the last thing i would be concerned about is ensuring my employer keeps the loot rolling in lol. In fact if that does go down, im jumping in my truck with a motivational \"item\" and coming to work to stock up. The mine site has enough food for 500 people a for 2 weeks at a time. I live out in the country. Im On well water, 1000 liter propane tank for heat and out door boiler. The genny is hooked up to a 400 liter gas storage container. My house that im building up the road from my current house already ha...  "
      ]
     },
     "execution_count": 82,
     "metadata": {},
     "output_type": "execute_result"
    }
   ],
   "source": [
    "import pandas as pd\n",
    "from fastai.text.all import *\n",
    "from transformers import *\n",
    "from blurr.text.data.all import *\n",
    "from blurr.text.modeling.all import *\n",
    "\n",
    "#Get data\n",
    "df = pd.read_csv('fake.csv', on_bad_lines='skip')\n",
    "df = df.dropna().reset_index()\n",
    "\n",
    "#Select part of data we want to keep\n",
    "df = df[(df['language']=='english') & (df['type']=='bs')].reset_index()\n",
    "df = df[['title','text']]\n",
    "\n",
    "#Clean text\n",
    "df['text'] = df['text'].apply(lambda x: x.replace('\\n',''))\n",
    "\n",
    "#Select only part of it (makes testing faster)\n",
    "articles = df.head(100)\n",
    "articles.head()"
   ]
  },
  {
   "cell_type": "code",
   "execution_count": 32,
   "id": "06f0e938",
   "metadata": {},
   "outputs": [],
   "source": [
    "from googletrans import Translator, LANGUAGES\n",
    "translator = Translator()\n"
   ]
  },
  {
   "cell_type": "code",
   "execution_count": 51,
   "id": "22507519",
   "metadata": {},
   "outputs": [],
   "source": [
    "new_data = articles['title'].apply(lambda row: translator.translate(row, dest='ka').text)"
   ]
  },
  {
   "cell_type": "code",
   "execution_count": 55,
   "id": "e1256cee",
   "metadata": {},
   "outputs": [],
   "source": [
    "articles[articles.index == new_data.index]['title'] = new_data"
   ]
  },
  {
   "cell_type": "code",
   "execution_count": 58,
   "id": "72f57a31",
   "metadata": {},
   "outputs": [],
   "source": [
    "articles['text'] = articles['text'].apply(lambda row: translator.translate(row, dest='ka').text)"
   ]
  },
  {
   "cell_type": "code",
   "execution_count": 70,
   "id": "35f612f1",
   "metadata": {
    "scrolled": true
   },
   "outputs": [
    {
     "data": {
      "text/html": [
       "<div>\n",
       "<style scoped>\n",
       "    .dataframe tbody tr th:only-of-type {\n",
       "        vertical-align: middle;\n",
       "    }\n",
       "\n",
       "    .dataframe tbody tr th {\n",
       "        vertical-align: top;\n",
       "    }\n",
       "\n",
       "    .dataframe thead th {\n",
       "        text-align: right;\n",
       "    }\n",
       "</style>\n",
       "<table border=\"1\" class=\"dataframe\">\n",
       "  <thead>\n",
       "    <tr style=\"text-align: right;\">\n",
       "      <th></th>\n",
       "      <th>title</th>\n",
       "      <th>text</th>\n",
       "    </tr>\n",
       "  </thead>\n",
       "  <tbody>\n",
       "    <tr>\n",
       "      <th>0</th>\n",
       "      <td>არამიწიერებზე საუბრისას სიტყვები საგანგებო პრეტენზიები უნდა მოიხსნას</td>\n",
       "      <td>ექსტრაორდინარული პრეტენზიები უნდა მოიხსნას, როდესაც ვსაუბრობთ უცხოპლანეტელებზე გვერდი: 1 ბმული მე ვკითხულობდი სტატიას, რომელიც საუბრობდა არამიწიერებზე და, რა თქმა უნდა, სტატიის ბოლოს დაღლილი ხაზი საგანგებო ზომების შესახებ .... ბლა, ბლა, ბლა გამოვიდა სტატიის ბოლოს. ეს უნდა შეწყდეს უცხოპლანეტელებზე საუბრისას. ეს შეიძლება იყო არაჩვეულებრივი პრეტენზია 60 წლის წინ, მაგრამ ეს არ არის დღეს. მეცნიერული მტკიცებულებებით, რაც დღეს გვაქვს, ბევრმა ადამიანმა, მათ შორის ჩვენი დროის ერთ-ერთმა საუკეთესო მეცნიერმა, მიაღწია დასკვნას, რომ უცხოპლანეტელები არსებობენ მტკიცებულებებზე დაყრდნობით. ჰოკინგმა თქვა: \"უ...</td>\n",
       "    </tr>\n",
       "    <tr>\n",
       "      <th>1</th>\n",
       "      <td>ჩვენ ვიცით სიმართლე</td>\n",
       "      <td>ლინკი ჰეი ხალხნო: მე ყოველთვის მსიამოვნებს თქვენი თემები, თუმცა ვფიქრობ, რომ თქვენ ზედმეტად ამახვილებთ ყურადღებას ცალკეულ რწმენის საკითხზე ან ნიმუშზე და შემდეგ ეს თქვენთვის თვითდამტკიცებული ხდება თქვენს კვლევაში. პირველი, ეს: მაგრამ თქვენს თავში რეალური ხმები ყოველთვის ფსიქიკური დაავადებაა. უკაცრავად, შესაძლოა, სტრესული რეაქცია, რომ არ იყოს განსჯი, ემართება საუკეთესოს და ასეთს, უბრალოდ, ნამდვილად არ არის ის, რის გადმოცემასაც ვცდილობ აქ. მიუხედავად იმისა, რომ მე მჯერა, რომ საკმაოდ ინტელექტუალური ხართ, არ მგონია, რომ ზუსტად ხართ კვალიფიციური იმისთვის, რომ ეს საბითუმო, საბოლოო გადაწყვეტილება ...</td>\n",
       "    </tr>\n",
       "    <tr>\n",
       "      <th>2</th>\n",
       "      <td>უცხოპლანეტელები აღმოსავლეთ ველზე აქ AZ-ში წუხელ.</td>\n",
       "      <td>უცხოპლანეტელები აღმოსავლეთ ველზე აქ AZ-ში წუხელ. გვერდი: 1 ბმული მე ვერ გადავიღე სურათი, ვცხოვრობ დასავლეთ მესაში და შუქები იყო აღმოსავლეთის მიმართულებით. Queen Creek-ის ტერიტორიაზე. უამრავმა ჩემმა მეგობარმა და ოჯახის წევრებმა დამირეკეს მაშინვე, როცა განათება დაიწყო, ამიტომ აივანზე გავედი და ისინი იქ იყვნენ. ზოგმა საკმაოდ კარგი ვიდეო მიიღო. მე ვიცი, რომ ზოგი იტყვის, რომ ისინი თვითმფრინავიდან არიან, მაგრამ თუ ისინი ცეცხლმოკიდებულები არიან, მაშინვე რატომ იშლება. როგორც წესი, თუ ის აალდება, ის ხანმოკლე დროის განმავლობაში დარჩება ანთებული. კაკალი. მე მხოლოდ მოგვიანებით შევესწარი 3 ნათებას, როც...</td>\n",
       "    </tr>\n",
       "    <tr>\n",
       "      <th>3</th>\n",
       "      <td>ნაპოვნია ეს ნაგლეჯი Podesta ფაილებში Fastwalkers და DSP პროგრამაში</td>\n",
       "      <td>ნაპოვნია ეს ნაგლეჯი Podesta ფაილებში Fastwalkers და DSP პროგრამის გვერდი: 1 ვიპოვე ეს Podesta ფაილებში, ID # 30433. ალბათ უკვე ცნობილია, უბრალოდ ვიფიქრე, რომ გამოვაქვეყნებდი ყოველი შემთხვევისთვის. პოდესტამ ეს წერილი გადაუგზავნა ლესლი კინს. თარიღი: 2015-03-06 ჯონ - უბრალოდ ჩადეთ ეს თქვენს უცხოპლანეტელებთან ერთად UFO ფაილებში მომავალი მითითებისთვის. ერთ-ერთი სამთავრობო პროგრამა, რომელიც აგროვებს მყარ მონაცემებს დაუდგენელი მფრინავი ობიექტების შესახებ, არის USAF DSP სატელიტური პროგრამა. მე შემიძლია დავამატო მცირე ინფორმაცია ინტერნეტში გამოქვეყნებულ ჭორებს. მიუხედავად იმისა, რომ მე არასოდეს ვიყ...</td>\n",
       "    </tr>\n",
       "    <tr>\n",
       "      <th>4</th>\n",
       "      <td>EMP ღონისძიება იგეგმება?</td>\n",
       "      <td>გაქვთ სამუშაო ბუნკერი? კონკრეტულად რას აკეთებ? კაცო, თუ სამყარო სისულელეში წავიდა, ბოლო, რაც მე მაინტერესებს, არის იმის უზრუნველყოფა, რომ ჩემი დამქირავებელი ინარჩუნებს ნაძარცვს lol. სინამდვილეში, თუ ეს არ დაიწევს, მე ვხტები ჩემს სატვირთო მანქანაში მოტივაციური \"ნივთით\" და მოვდივარ სამსახურში მარაგისთვის. მაღაროში არის საკმარისი საკვები 500 ადამიანისთვის 2 კვირის განმავლობაში. მე ვცხოვრობ ქვეყანაში. ვარ ჭაბურღილის წყალზე, 1000 ლიტრიანი პროპანის ავზი გათბობისთვის და გარე ქვაბისთვის. გენი მიმაგრებულია 400 ლიტრიანი გაზის შესანახ კონტეინერზე. ჩემს სახლს, რომელიც ვაშენებ გზას ჩემი ამჟამინდელი სახ...</td>\n",
       "    </tr>\n",
       "    <tr>\n",
       "      <th>...</th>\n",
       "      <td>...</td>\n",
       "      <td>...</td>\n",
       "    </tr>\n",
       "    <tr>\n",
       "      <th>95</th>\n",
       "      <td>ერიკა გარნერი აკრიტიკებს კლინტონის კამპანიას თანამშრომლების მიერ ერიკ გარნერის შესახებ დისკუსიების გამო</td>\n",
       "      <td>ერიკა გარნერი აკრიტიკებს კლინტონის კამპანიას პერსონალის მიერ ერიკ გარნერის გვერდის შესახებ დისკუსიების გამო: 1 Podesta-ს ერთ-ერთ ელფოსტაზე აქვს კლინტონის კამპანიის ხალხი, რომელიც განიხილავს ერიკ გარნერის სიკვდილს ისე, როგორც მის ქალიშვილ ერიკას არ მოსწონს. იგი შევიდა Twitter-ზე და მისცა მათ თავისი გონების ნაწილი. როგორც ჩანს, მათ დაინახეს გაზეთის სიუჟეტი, რომელიც შესაძლოა განიმარტებოდა, როგორც პასუხისმგებლობა. ამ ექსპოზიციამ შეიძლება ზიანი მიაყენოს კამპანიას. მთელი კამპანია ეფუძნება პოლიტიკურ მოგებასა და ზარალს და არა ადამიანურ ღირსებას. ერიკა გარნერი აკრიტიკებს კლინტონის კამპანიას თანამშრ...</td>\n",
       "    </tr>\n",
       "    <tr>\n",
       "      <th>96</th>\n",
       "      <td>უსახლკარო ტრამპის მხარდამჭერი იცავს დონალდ ტრამპის ვარსკვლავს ჰოლივუდის ბლვდზე</td>\n",
       "      <td>უსახლკარო TRUMP-ის მხარდამჭერი იცავს დონალდ ტრამპის ვარსკვლავს ჰოლივუდის ბლვდ-ის გვერდზე: 1 ოთხშაბათს მოძალადე მემარცხენეებმა გაანადგურეს დონალდ ტრამპის ვარსკვლავი ჰოლივუდის დიდების ხეივანში. დამნაშავეებმა დონალდის ვარსკვლავის განადგურება გამოიყენეს. ადამიანს, რომელიც უყურებდა ტრამპის ვარსკვლავს, ანტიიმიგრაციული ნიშანი ჰქონდა და ტრამპის მომხრეა. მოგვიანებით კიდევ ერთმა უსახლკარო კაცმა აიღო საათი, რათა უსაფრთხოდ შეენარჩუნებინა Trumps ვარსკვლავი ჰოლივუდის BLVD-ზე. ვიდეოდან ჩანს, რომ ვარსკვლავი უკვე შეცვლილი იყო. შეიძლება ეს მცენარე იყოს? და უზრუნველყო ტრამპმა უსახლკარო ხმა? ყველა ეძებს ხრიკს...</td>\n",
       "    </tr>\n",
       "    <tr>\n",
       "      <th>97</th>\n",
       "      <td>მეცნიერები ამბობენ, რომ უცნაური სიგნალები კოსმოსიდან არის \"ალბათ\" უცხოპლანეტელები</td>\n",
       "      <td>მეცნიერები ამბობენ, რომ კოსმოსიდან უცნაური სიგნალები \"ალბათ\" უცხოპლანეტელები არიან. ასტრონომთა გუნდი თვლის, რომ უცნაური სიგნალები, რომლებიც ვარსკვლავთა გროვიდან მოდის, სინამდვილეში უცხოპლანეტელები არიან, რომლებიც ცდილობენ სამყაროს არსებობის შესახებ აცნობონ. კვლევამ, რომელიც გამოქვეყნდა წყნარი ოკეანის ასტრონომიული საზოგადოების პუბლიკაციებში, გააანალიზა 234 ვარსკვლავის სინათლის უცნაური სხივები - 2,5 მილიონის ნაწილი, რომელიც დაფიქსირდა. უცნაურმა შუქურებმა მიიყვანა ნაშრომის ავტორები, ერმანო ფ. ბორა და ერიკ ტროტიე კვებეკის ლავალის უნივერსიტეტიდან დასკვნამდე, რომ ეს \"ალბათ\" უცხოპლანეტელები არიან...</td>\n",
       "    </tr>\n",
       "    <tr>\n",
       "      <th>98</th>\n",
       "      <td>ნორმალურ ტრანზისტორებს შეუძლიათ იმოქმედონ კუბიტის მსგავსად?</td>\n",
       "      <td>ნორმალურ ტრანზისტორებს შეუძლიათ იმოქმედონ კუბიტის მსგავსად? page: 1 ბმული გამარჯობა. ვფიქრობ, მაქვს შეკითხვა კვანტურ გამოთვლებთან დაკავშირებით. ვინაიდან კუბიტები ქმნიან კვანტურ კომპიუტერებს... ეს კუბიტები შეიძლება იმოქმედოს როგორც ტრანზისტორი, რომელიც შეიძლება იყოს ან ჩართული, გამორთული, ან ერთდროულად ჩართული და გამორთული. ჩვეულებრივ გამოთვლებში... ტრანზისტორები ან ჩართულია ან გამორთულია. კვანტურში ისინი ერთდროულად შეიძლება იყვნენ ჩართულიც და გამორთულიც... კითხვა მე მაქვს უბრალოდ ეს. შესაძლებელია თუ არა ტრანზისტორის შექმნა, რომელსაც შეუძლია ერთდროულად იმოქმედოს როგორც ჩართვა, გამორთვა და გ...</td>\n",
       "    </tr>\n",
       "    <tr>\n",
       "      <th>99</th>\n",
       "      <td>პოდესტას ნათესავი კლინტონის სახელმწიფო ვალის ლობირებით ექვსნიშნა რიცხვს იღებს. იქ ყოფნის პერიოდში</td>\n",
       "      <td>ასე მუშაობს კლინტონის კაბალში... ან არის მეინსტრიმ მაფია. 1) კატარი მხარს უჭერს ISIS-ს (სხვათა შორის) 2) ყატარს სურს შეიძინოს აშშ-ს მოწინავე სარაკეტო თავდაცვის სისტემები, Apache თავდასხმის შვეულმფრენები და სხვა სამხედრო მასალა 3) Ratheon (დიდი თავდაცვის კონტრაქტორი) სურს მიყიდოს აშშ-ის სამხედრო საქონელი ყატარს 4) ამ ტიპის უცხოური სამხედრო გაყიდვები უნდა დაამტკიცოს სახელმწიფო დეპარტამენტმა 5) ჰილარი ხდება სახელმწიფო მდივანი 6) ჰილარი აქვს „საქველმოქმედო ფონდი“ 7) ჰილარი ჰყავს ყოფილი POTUS როგორც მისი მეუღლე 8) ჰილარი ჰყავს თანაშემწეების, კონფიდენტების ქსელი. , ბანდლერები და ფინანსების შემგრ...</td>\n",
       "    </tr>\n",
       "  </tbody>\n",
       "</table>\n",
       "<p>100 rows × 2 columns</p>\n",
       "</div>"
      ],
      "text/plain": [
       "                                                                                                      title  \\\n",
       "0                                      არამიწიერებზე საუბრისას სიტყვები საგანგებო პრეტენზიები უნდა მოიხსნას   \n",
       "1                                                                                       ჩვენ ვიცით სიმართლე   \n",
       "2                                                          უცხოპლანეტელები აღმოსავლეთ ველზე აქ AZ-ში წუხელ.   \n",
       "3                                        ნაპოვნია ეს ნაგლეჯი Podesta ფაილებში Fastwalkers და DSP პროგრამაში   \n",
       "4                                                                                  EMP ღონისძიება იგეგმება?   \n",
       "..                                                                                                      ...   \n",
       "95  ერიკა გარნერი აკრიტიკებს კლინტონის კამპანიას თანამშრომლების მიერ ერიკ გარნერის შესახებ დისკუსიების გამო   \n",
       "96                           უსახლკარო ტრამპის მხარდამჭერი იცავს დონალდ ტრამპის ვარსკვლავს ჰოლივუდის ბლვდზე   \n",
       "97                        მეცნიერები ამბობენ, რომ უცნაური სიგნალები კოსმოსიდან არის \"ალბათ\" უცხოპლანეტელები   \n",
       "98                                              ნორმალურ ტრანზისტორებს შეუძლიათ იმოქმედონ კუბიტის მსგავსად?   \n",
       "99        პოდესტას ნათესავი კლინტონის სახელმწიფო ვალის ლობირებით ექვსნიშნა რიცხვს იღებს. იქ ყოფნის პერიოდში   \n",
       "\n",
       "                                                                                                                                                                                                                                                                                                                                                                                                                                                                                                                                                                                                                       text  \n",
       "0   ექსტრაორდინარული პრეტენზიები უნდა მოიხსნას, როდესაც ვსაუბრობთ უცხოპლანეტელებზე გვერდი: 1 ბმული მე ვკითხულობდი სტატიას, რომელიც საუბრობდა არამიწიერებზე და, რა თქმა უნდა, სტატიის ბოლოს დაღლილი ხაზი საგანგებო ზომების შესახებ .... ბლა, ბლა, ბლა გამოვიდა სტატიის ბოლოს. ეს უნდა შეწყდეს უცხოპლანეტელებზე საუბრისას. ეს შეიძლება იყო არაჩვეულებრივი პრეტენზია 60 წლის წინ, მაგრამ ეს არ არის დღეს. მეცნიერული მტკიცებულებებით, რაც დღეს გვაქვს, ბევრმა ადამიანმა, მათ შორის ჩვენი დროის ერთ-ერთმა საუკეთესო მეცნიერმა, მიაღწია დასკვნას, რომ უცხოპლანეტელები არსებობენ მტკიცებულებებზე დაყრდნობით. ჰოკინგმა თქვა: \"უ...  \n",
       "1   ლინკი ჰეი ხალხნო: მე ყოველთვის მსიამოვნებს თქვენი თემები, თუმცა ვფიქრობ, რომ თქვენ ზედმეტად ამახვილებთ ყურადღებას ცალკეულ რწმენის საკითხზე ან ნიმუშზე და შემდეგ ეს თქვენთვის თვითდამტკიცებული ხდება თქვენს კვლევაში. პირველი, ეს: მაგრამ თქვენს თავში რეალური ხმები ყოველთვის ფსიქიკური დაავადებაა. უკაცრავად, შესაძლოა, სტრესული რეაქცია, რომ არ იყოს განსჯი, ემართება საუკეთესოს და ასეთს, უბრალოდ, ნამდვილად არ არის ის, რის გადმოცემასაც ვცდილობ აქ. მიუხედავად იმისა, რომ მე მჯერა, რომ საკმაოდ ინტელექტუალური ხართ, არ მგონია, რომ ზუსტად ხართ კვალიფიციური იმისთვის, რომ ეს საბითუმო, საბოლოო გადაწყვეტილება ...  \n",
       "2   უცხოპლანეტელები აღმოსავლეთ ველზე აქ AZ-ში წუხელ. გვერდი: 1 ბმული მე ვერ გადავიღე სურათი, ვცხოვრობ დასავლეთ მესაში და შუქები იყო აღმოსავლეთის მიმართულებით. Queen Creek-ის ტერიტორიაზე. უამრავმა ჩემმა მეგობარმა და ოჯახის წევრებმა დამირეკეს მაშინვე, როცა განათება დაიწყო, ამიტომ აივანზე გავედი და ისინი იქ იყვნენ. ზოგმა საკმაოდ კარგი ვიდეო მიიღო. მე ვიცი, რომ ზოგი იტყვის, რომ ისინი თვითმფრინავიდან არიან, მაგრამ თუ ისინი ცეცხლმოკიდებულები არიან, მაშინვე რატომ იშლება. როგორც წესი, თუ ის აალდება, ის ხანმოკლე დროის განმავლობაში დარჩება ანთებული. კაკალი. მე მხოლოდ მოგვიანებით შევესწარი 3 ნათებას, როც...  \n",
       "3   ნაპოვნია ეს ნაგლეჯი Podesta ფაილებში Fastwalkers და DSP პროგრამის გვერდი: 1 ვიპოვე ეს Podesta ფაილებში, ID # 30433. ალბათ უკვე ცნობილია, უბრალოდ ვიფიქრე, რომ გამოვაქვეყნებდი ყოველი შემთხვევისთვის. პოდესტამ ეს წერილი გადაუგზავნა ლესლი კინს. თარიღი: 2015-03-06 ჯონ - უბრალოდ ჩადეთ ეს თქვენს უცხოპლანეტელებთან ერთად UFO ფაილებში მომავალი მითითებისთვის. ერთ-ერთი სამთავრობო პროგრამა, რომელიც აგროვებს მყარ მონაცემებს დაუდგენელი მფრინავი ობიექტების შესახებ, არის USAF DSP სატელიტური პროგრამა. მე შემიძლია დავამატო მცირე ინფორმაცია ინტერნეტში გამოქვეყნებულ ჭორებს. მიუხედავად იმისა, რომ მე არასოდეს ვიყ...  \n",
       "4   გაქვთ სამუშაო ბუნკერი? კონკრეტულად რას აკეთებ? კაცო, თუ სამყარო სისულელეში წავიდა, ბოლო, რაც მე მაინტერესებს, არის იმის უზრუნველყოფა, რომ ჩემი დამქირავებელი ინარჩუნებს ნაძარცვს lol. სინამდვილეში, თუ ეს არ დაიწევს, მე ვხტები ჩემს სატვირთო მანქანაში მოტივაციური \"ნივთით\" და მოვდივარ სამსახურში მარაგისთვის. მაღაროში არის საკმარისი საკვები 500 ადამიანისთვის 2 კვირის განმავლობაში. მე ვცხოვრობ ქვეყანაში. ვარ ჭაბურღილის წყალზე, 1000 ლიტრიანი პროპანის ავზი გათბობისთვის და გარე ქვაბისთვის. გენი მიმაგრებულია 400 ლიტრიანი გაზის შესანახ კონტეინერზე. ჩემს სახლს, რომელიც ვაშენებ გზას ჩემი ამჟამინდელი სახ...  \n",
       "..                                                                                                                                                                                                                                                                                                                                                                                                                                                                                                                                                                                                                      ...  \n",
       "95  ერიკა გარნერი აკრიტიკებს კლინტონის კამპანიას პერსონალის მიერ ერიკ გარნერის გვერდის შესახებ დისკუსიების გამო: 1 Podesta-ს ერთ-ერთ ელფოსტაზე აქვს კლინტონის კამპანიის ხალხი, რომელიც განიხილავს ერიკ გარნერის სიკვდილს ისე, როგორც მის ქალიშვილ ერიკას არ მოსწონს. იგი შევიდა Twitter-ზე და მისცა მათ თავისი გონების ნაწილი. როგორც ჩანს, მათ დაინახეს გაზეთის სიუჟეტი, რომელიც შესაძლოა განიმარტებოდა, როგორც პასუხისმგებლობა. ამ ექსპოზიციამ შეიძლება ზიანი მიაყენოს კამპანიას. მთელი კამპანია ეფუძნება პოლიტიკურ მოგებასა და ზარალს და არა ადამიანურ ღირსებას. ერიკა გარნერი აკრიტიკებს კლინტონის კამპანიას თანამშრ...  \n",
       "96  უსახლკარო TRUMP-ის მხარდამჭერი იცავს დონალდ ტრამპის ვარსკვლავს ჰოლივუდის ბლვდ-ის გვერდზე: 1 ოთხშაბათს მოძალადე მემარცხენეებმა გაანადგურეს დონალდ ტრამპის ვარსკვლავი ჰოლივუდის დიდების ხეივანში. დამნაშავეებმა დონალდის ვარსკვლავის განადგურება გამოიყენეს. ადამიანს, რომელიც უყურებდა ტრამპის ვარსკვლავს, ანტიიმიგრაციული ნიშანი ჰქონდა და ტრამპის მომხრეა. მოგვიანებით კიდევ ერთმა უსახლკარო კაცმა აიღო საათი, რათა უსაფრთხოდ შეენარჩუნებინა Trumps ვარსკვლავი ჰოლივუდის BLVD-ზე. ვიდეოდან ჩანს, რომ ვარსკვლავი უკვე შეცვლილი იყო. შეიძლება ეს მცენარე იყოს? და უზრუნველყო ტრამპმა უსახლკარო ხმა? ყველა ეძებს ხრიკს...  \n",
       "97  მეცნიერები ამბობენ, რომ კოსმოსიდან უცნაური სიგნალები \"ალბათ\" უცხოპლანეტელები არიან. ასტრონომთა გუნდი თვლის, რომ უცნაური სიგნალები, რომლებიც ვარსკვლავთა გროვიდან მოდის, სინამდვილეში უცხოპლანეტელები არიან, რომლებიც ცდილობენ სამყაროს არსებობის შესახებ აცნობონ. კვლევამ, რომელიც გამოქვეყნდა წყნარი ოკეანის ასტრონომიული საზოგადოების პუბლიკაციებში, გააანალიზა 234 ვარსკვლავის სინათლის უცნაური სხივები - 2,5 მილიონის ნაწილი, რომელიც დაფიქსირდა. უცნაურმა შუქურებმა მიიყვანა ნაშრომის ავტორები, ერმანო ფ. ბორა და ერიკ ტროტიე კვებეკის ლავალის უნივერსიტეტიდან დასკვნამდე, რომ ეს \"ალბათ\" უცხოპლანეტელები არიან...  \n",
       "98  ნორმალურ ტრანზისტორებს შეუძლიათ იმოქმედონ კუბიტის მსგავსად? page: 1 ბმული გამარჯობა. ვფიქრობ, მაქვს შეკითხვა კვანტურ გამოთვლებთან დაკავშირებით. ვინაიდან კუბიტები ქმნიან კვანტურ კომპიუტერებს... ეს კუბიტები შეიძლება იმოქმედოს როგორც ტრანზისტორი, რომელიც შეიძლება იყოს ან ჩართული, გამორთული, ან ერთდროულად ჩართული და გამორთული. ჩვეულებრივ გამოთვლებში... ტრანზისტორები ან ჩართულია ან გამორთულია. კვანტურში ისინი ერთდროულად შეიძლება იყვნენ ჩართულიც და გამორთულიც... კითხვა მე მაქვს უბრალოდ ეს. შესაძლებელია თუ არა ტრანზისტორის შექმნა, რომელსაც შეუძლია ერთდროულად იმოქმედოს როგორც ჩართვა, გამორთვა და გ...  \n",
       "99  ასე მუშაობს კლინტონის კაბალში... ან არის მეინსტრიმ მაფია. 1) კატარი მხარს უჭერს ISIS-ს (სხვათა შორის) 2) ყატარს სურს შეიძინოს აშშ-ს მოწინავე სარაკეტო თავდაცვის სისტემები, Apache თავდასხმის შვეულმფრენები და სხვა სამხედრო მასალა 3) Ratheon (დიდი თავდაცვის კონტრაქტორი) სურს მიყიდოს აშშ-ის სამხედრო საქონელი ყატარს 4) ამ ტიპის უცხოური სამხედრო გაყიდვები უნდა დაამტკიცოს სახელმწიფო დეპარტამენტმა 5) ჰილარი ხდება სახელმწიფო მდივანი 6) ჰილარი აქვს „საქველმოქმედო ფონდი“ 7) ჰილარი ჰყავს ყოფილი POTUS როგორც მისი მეუღლე 8) ჰილარი ჰყავს თანაშემწეების, კონფიდენტების ქსელი. , ბანდლერები და ფინანსების შემგრ...  \n",
       "\n",
       "[100 rows x 2 columns]"
      ]
     },
     "execution_count": 70,
     "metadata": {},
     "output_type": "execute_result"
    }
   ],
   "source": [
    "articles"
   ]
  },
  {
   "cell_type": "code",
   "execution_count": 83,
   "id": "7f1a7008",
   "metadata": {
    "scrolled": true
   },
   "outputs": [],
   "source": [
    "#Import the pretrained model\n",
    "pretrained_model_name = \"facebook/bart-large-cnn\"\n",
    "hf_arch, hf_config, hf_tokenizer, hf_model = get_hf_objects(pretrained_model_name, \n",
    "                                                                  model_cls=BartForConditionalGeneration)\n",
    "\n"
   ]
  },
  {
   "cell_type": "code",
   "execution_count": 84,
   "id": "0c478c94",
   "metadata": {},
   "outputs": [],
   "source": [
    "from blurr import *"
   ]
  },
  {
   "cell_type": "code",
   "execution_count": 87,
   "id": "bae2f5a1",
   "metadata": {},
   "outputs": [
    {
     "name": "stdout",
     "output_type": "stream",
     "text": [
      "Could not do one pass in your dataloader, there is something wrong in it. Please see the stack trace below:\n"
     ]
    },
    {
     "name": "stderr",
     "output_type": "stream",
     "text": [
      "/Users/intrro/Desktop/text_summarization/venv-summarization/lib/python3.10/site-packages/transformers/tokenization_utils_base.py:3619: UserWarning: `as_target_tokenizer` is deprecated and will be removed in v5 of Transformers. You can tokenize your labels by using the argument `text_target` of the regular `__call__` method (either in the same call as your input texts if you use the same keyword arguments, or in a separate call.\n",
      "  warnings.warn(\n"
     ]
    },
    {
     "ename": "RuntimeError",
     "evalue": "The MPS backend is supported on MacOS 12.3+.Current OS version can be queried using `sw_vers`",
     "output_type": "error",
     "traceback": [
      "\u001b[0;31m---------------------------------------------------------------------------\u001b[0m",
      "\u001b[0;31mRuntimeError\u001b[0m                              Traceback (most recent call last)",
      "Cell \u001b[0;32mIn[87], line 16\u001b[0m\n\u001b[1;32m     14\u001b[0m blocks \u001b[38;5;241m=\u001b[39m (Seq2SeqTextBlock(batch_tokenize_tfm\u001b[38;5;241m=\u001b[39mhf_batch_tfm), noop)\n\u001b[1;32m     15\u001b[0m dblock \u001b[38;5;241m=\u001b[39m DataBlock(blocks\u001b[38;5;241m=\u001b[39mblocks, get_x\u001b[38;5;241m=\u001b[39mColReader(\u001b[38;5;124m'\u001b[39m\u001b[38;5;124mtext\u001b[39m\u001b[38;5;124m'\u001b[39m), get_y\u001b[38;5;241m=\u001b[39mColReader(\u001b[38;5;124m'\u001b[39m\u001b[38;5;124mtitle\u001b[39m\u001b[38;5;124m'\u001b[39m), splitter\u001b[38;5;241m=\u001b[39mRandomSplitter())\n\u001b[0;32m---> 16\u001b[0m dls \u001b[38;5;241m=\u001b[39m \u001b[43mdblock\u001b[49m\u001b[38;5;241;43m.\u001b[39;49m\u001b[43mdataloaders\u001b[49m\u001b[43m(\u001b[49m\u001b[43marticles\u001b[49m\u001b[43m,\u001b[49m\u001b[43m \u001b[49m\u001b[43mbs\u001b[49m\u001b[38;5;241;43m=\u001b[39;49m\u001b[38;5;241;43m2\u001b[39;49m\u001b[43m)\u001b[49m\n",
      "File \u001b[0;32m~/Desktop/text_summarization/venv-summarization/lib/python3.10/site-packages/fastai/data/block.py:157\u001b[0m, in \u001b[0;36mDataBlock.dataloaders\u001b[0;34m(self, source, path, verbose, **kwargs)\u001b[0m\n\u001b[1;32m    155\u001b[0m dsets \u001b[38;5;241m=\u001b[39m \u001b[38;5;28mself\u001b[39m\u001b[38;5;241m.\u001b[39mdatasets(source, verbose\u001b[38;5;241m=\u001b[39mverbose)\n\u001b[1;32m    156\u001b[0m kwargs \u001b[38;5;241m=\u001b[39m {\u001b[38;5;241m*\u001b[39m\u001b[38;5;241m*\u001b[39m\u001b[38;5;28mself\u001b[39m\u001b[38;5;241m.\u001b[39mdls_kwargs, \u001b[38;5;241m*\u001b[39m\u001b[38;5;241m*\u001b[39mkwargs, \u001b[38;5;124m'\u001b[39m\u001b[38;5;124mverbose\u001b[39m\u001b[38;5;124m'\u001b[39m: verbose}\n\u001b[0;32m--> 157\u001b[0m \u001b[38;5;28;01mreturn\u001b[39;00m \u001b[43mdsets\u001b[49m\u001b[38;5;241;43m.\u001b[39;49m\u001b[43mdataloaders\u001b[49m\u001b[43m(\u001b[49m\u001b[43mpath\u001b[49m\u001b[38;5;241;43m=\u001b[39;49m\u001b[43mpath\u001b[49m\u001b[43m,\u001b[49m\u001b[43m \u001b[49m\u001b[43mafter_item\u001b[49m\u001b[38;5;241;43m=\u001b[39;49m\u001b[38;5;28;43mself\u001b[39;49m\u001b[38;5;241;43m.\u001b[39;49m\u001b[43mitem_tfms\u001b[49m\u001b[43m,\u001b[49m\u001b[43m \u001b[49m\u001b[43mafter_batch\u001b[49m\u001b[38;5;241;43m=\u001b[39;49m\u001b[38;5;28;43mself\u001b[39;49m\u001b[38;5;241;43m.\u001b[39;49m\u001b[43mbatch_tfms\u001b[49m\u001b[43m,\u001b[49m\u001b[43m \u001b[49m\u001b[38;5;241;43m*\u001b[39;49m\u001b[38;5;241;43m*\u001b[39;49m\u001b[43mkwargs\u001b[49m\u001b[43m)\u001b[49m\n",
      "File \u001b[0;32m~/Desktop/text_summarization/venv-summarization/lib/python3.10/site-packages/fastai/data/core.py:337\u001b[0m, in \u001b[0;36mFilteredBase.dataloaders\u001b[0;34m(self, bs, shuffle_train, shuffle, val_shuffle, n, path, dl_type, dl_kwargs, device, drop_last, val_bs, **kwargs)\u001b[0m\n\u001b[1;32m    335\u001b[0m dl \u001b[38;5;241m=\u001b[39m dl_type(\u001b[38;5;28mself\u001b[39m\u001b[38;5;241m.\u001b[39msubset(\u001b[38;5;241m0\u001b[39m), \u001b[38;5;241m*\u001b[39m\u001b[38;5;241m*\u001b[39mmerge(kwargs,def_kwargs, dl_kwargs[\u001b[38;5;241m0\u001b[39m]))\n\u001b[1;32m    336\u001b[0m def_kwargs \u001b[38;5;241m=\u001b[39m {\u001b[38;5;124m'\u001b[39m\u001b[38;5;124mbs\u001b[39m\u001b[38;5;124m'\u001b[39m:bs \u001b[38;5;28;01mif\u001b[39;00m val_bs \u001b[38;5;129;01mis\u001b[39;00m \u001b[38;5;28;01mNone\u001b[39;00m \u001b[38;5;28;01melse\u001b[39;00m val_bs,\u001b[38;5;124m'\u001b[39m\u001b[38;5;124mshuffle\u001b[39m\u001b[38;5;124m'\u001b[39m:val_shuffle,\u001b[38;5;124m'\u001b[39m\u001b[38;5;124mn\u001b[39m\u001b[38;5;124m'\u001b[39m:\u001b[38;5;28;01mNone\u001b[39;00m,\u001b[38;5;124m'\u001b[39m\u001b[38;5;124mdrop_last\u001b[39m\u001b[38;5;124m'\u001b[39m:\u001b[38;5;28;01mFalse\u001b[39;00m}\n\u001b[0;32m--> 337\u001b[0m dls \u001b[38;5;241m=\u001b[39m [dl] \u001b[38;5;241m+\u001b[39m [dl\u001b[38;5;241m.\u001b[39mnew(\u001b[38;5;28mself\u001b[39m\u001b[38;5;241m.\u001b[39msubset(i), \u001b[38;5;241m*\u001b[39m\u001b[38;5;241m*\u001b[39mmerge(kwargs,def_kwargs,val_kwargs,dl_kwargs[i]))\n\u001b[1;32m    338\u001b[0m               \u001b[38;5;28;01mfor\u001b[39;00m i \u001b[38;5;129;01min\u001b[39;00m \u001b[38;5;28mrange\u001b[39m(\u001b[38;5;241m1\u001b[39m, \u001b[38;5;28mself\u001b[39m\u001b[38;5;241m.\u001b[39mn_subsets)]\n\u001b[1;32m    339\u001b[0m \u001b[38;5;28;01mreturn\u001b[39;00m \u001b[38;5;28mself\u001b[39m\u001b[38;5;241m.\u001b[39m_dbunch_type(\u001b[38;5;241m*\u001b[39mdls, path\u001b[38;5;241m=\u001b[39mpath, device\u001b[38;5;241m=\u001b[39mdevice)\n",
      "File \u001b[0;32m~/Desktop/text_summarization/venv-summarization/lib/python3.10/site-packages/fastai/data/core.py:337\u001b[0m, in \u001b[0;36m<listcomp>\u001b[0;34m(.0)\u001b[0m\n\u001b[1;32m    335\u001b[0m dl \u001b[38;5;241m=\u001b[39m dl_type(\u001b[38;5;28mself\u001b[39m\u001b[38;5;241m.\u001b[39msubset(\u001b[38;5;241m0\u001b[39m), \u001b[38;5;241m*\u001b[39m\u001b[38;5;241m*\u001b[39mmerge(kwargs,def_kwargs, dl_kwargs[\u001b[38;5;241m0\u001b[39m]))\n\u001b[1;32m    336\u001b[0m def_kwargs \u001b[38;5;241m=\u001b[39m {\u001b[38;5;124m'\u001b[39m\u001b[38;5;124mbs\u001b[39m\u001b[38;5;124m'\u001b[39m:bs \u001b[38;5;28;01mif\u001b[39;00m val_bs \u001b[38;5;129;01mis\u001b[39;00m \u001b[38;5;28;01mNone\u001b[39;00m \u001b[38;5;28;01melse\u001b[39;00m val_bs,\u001b[38;5;124m'\u001b[39m\u001b[38;5;124mshuffle\u001b[39m\u001b[38;5;124m'\u001b[39m:val_shuffle,\u001b[38;5;124m'\u001b[39m\u001b[38;5;124mn\u001b[39m\u001b[38;5;124m'\u001b[39m:\u001b[38;5;28;01mNone\u001b[39;00m,\u001b[38;5;124m'\u001b[39m\u001b[38;5;124mdrop_last\u001b[39m\u001b[38;5;124m'\u001b[39m:\u001b[38;5;28;01mFalse\u001b[39;00m}\n\u001b[0;32m--> 337\u001b[0m dls \u001b[38;5;241m=\u001b[39m [dl] \u001b[38;5;241m+\u001b[39m [\u001b[43mdl\u001b[49m\u001b[38;5;241;43m.\u001b[39;49m\u001b[43mnew\u001b[49m\u001b[43m(\u001b[49m\u001b[38;5;28;43mself\u001b[39;49m\u001b[38;5;241;43m.\u001b[39;49m\u001b[43msubset\u001b[49m\u001b[43m(\u001b[49m\u001b[43mi\u001b[49m\u001b[43m)\u001b[49m\u001b[43m,\u001b[49m\u001b[43m \u001b[49m\u001b[38;5;241;43m*\u001b[39;49m\u001b[38;5;241;43m*\u001b[39;49m\u001b[43mmerge\u001b[49m\u001b[43m(\u001b[49m\u001b[43mkwargs\u001b[49m\u001b[43m,\u001b[49m\u001b[43mdef_kwargs\u001b[49m\u001b[43m,\u001b[49m\u001b[43mval_kwargs\u001b[49m\u001b[43m,\u001b[49m\u001b[43mdl_kwargs\u001b[49m\u001b[43m[\u001b[49m\u001b[43mi\u001b[49m\u001b[43m]\u001b[49m\u001b[43m)\u001b[49m\u001b[43m)\u001b[49m\n\u001b[1;32m    338\u001b[0m               \u001b[38;5;28;01mfor\u001b[39;00m i \u001b[38;5;129;01min\u001b[39;00m \u001b[38;5;28mrange\u001b[39m(\u001b[38;5;241m1\u001b[39m, \u001b[38;5;28mself\u001b[39m\u001b[38;5;241m.\u001b[39mn_subsets)]\n\u001b[1;32m    339\u001b[0m \u001b[38;5;28;01mreturn\u001b[39;00m \u001b[38;5;28mself\u001b[39m\u001b[38;5;241m.\u001b[39m_dbunch_type(\u001b[38;5;241m*\u001b[39mdls, path\u001b[38;5;241m=\u001b[39mpath, device\u001b[38;5;241m=\u001b[39mdevice)\n",
      "File \u001b[0;32m~/Desktop/text_summarization/venv-summarization/lib/python3.10/site-packages/fastai/text/data.py:218\u001b[0m, in \u001b[0;36mSortedDL.new\u001b[0;34m(self, dataset, **kwargs)\u001b[0m\n\u001b[1;32m    216\u001b[0m \u001b[38;5;28;01mif\u001b[39;00m \u001b[38;5;124m'\u001b[39m\u001b[38;5;124mval_res\u001b[39m\u001b[38;5;124m'\u001b[39m \u001b[38;5;129;01min\u001b[39;00m kwargs \u001b[38;5;129;01mand\u001b[39;00m kwargs[\u001b[38;5;124m'\u001b[39m\u001b[38;5;124mval_res\u001b[39m\u001b[38;5;124m'\u001b[39m] \u001b[38;5;129;01mis\u001b[39;00m \u001b[38;5;129;01mnot\u001b[39;00m \u001b[38;5;28;01mNone\u001b[39;00m: res \u001b[38;5;241m=\u001b[39m kwargs[\u001b[38;5;124m'\u001b[39m\u001b[38;5;124mval_res\u001b[39m\u001b[38;5;124m'\u001b[39m]\n\u001b[1;32m    217\u001b[0m \u001b[38;5;28;01melse\u001b[39;00m: res \u001b[38;5;241m=\u001b[39m \u001b[38;5;28mself\u001b[39m\u001b[38;5;241m.\u001b[39mres \u001b[38;5;28;01mif\u001b[39;00m dataset \u001b[38;5;129;01mis\u001b[39;00m \u001b[38;5;28;01mNone\u001b[39;00m \u001b[38;5;28;01melse\u001b[39;00m \u001b[38;5;28;01mNone\u001b[39;00m\n\u001b[0;32m--> 218\u001b[0m \u001b[38;5;28;01mreturn\u001b[39;00m \u001b[38;5;28;43msuper\u001b[39;49m\u001b[43m(\u001b[49m\u001b[43m)\u001b[49m\u001b[38;5;241;43m.\u001b[39;49m\u001b[43mnew\u001b[49m\u001b[43m(\u001b[49m\u001b[43mdataset\u001b[49m\u001b[38;5;241;43m=\u001b[39;49m\u001b[43mdataset\u001b[49m\u001b[43m,\u001b[49m\u001b[43m \u001b[49m\u001b[43mres\u001b[49m\u001b[38;5;241;43m=\u001b[39;49m\u001b[43mres\u001b[49m\u001b[43m,\u001b[49m\u001b[43m \u001b[49m\u001b[38;5;241;43m*\u001b[39;49m\u001b[38;5;241;43m*\u001b[39;49m\u001b[43mkwargs\u001b[49m\u001b[43m)\u001b[49m\n",
      "File \u001b[0;32m~/Desktop/text_summarization/venv-summarization/lib/python3.10/site-packages/fastai/data/core.py:97\u001b[0m, in \u001b[0;36mTfmdDL.new\u001b[0;34m(self, dataset, cls, **kwargs)\u001b[0m\n\u001b[1;32m     95\u001b[0m \u001b[38;5;28;01mif\u001b[39;00m \u001b[38;5;129;01mnot\u001b[39;00m \u001b[38;5;28mhasattr\u001b[39m(\u001b[38;5;28mself\u001b[39m, \u001b[38;5;124m'\u001b[39m\u001b[38;5;124m_n_inp\u001b[39m\u001b[38;5;124m'\u001b[39m) \u001b[38;5;129;01mor\u001b[39;00m \u001b[38;5;129;01mnot\u001b[39;00m \u001b[38;5;28mhasattr\u001b[39m(\u001b[38;5;28mself\u001b[39m, \u001b[38;5;124m'\u001b[39m\u001b[38;5;124m_types\u001b[39m\u001b[38;5;124m'\u001b[39m):\n\u001b[1;32m     96\u001b[0m     \u001b[38;5;28;01mtry\u001b[39;00m:\n\u001b[0;32m---> 97\u001b[0m         \u001b[38;5;28;43mself\u001b[39;49m\u001b[38;5;241;43m.\u001b[39;49m\u001b[43m_one_pass\u001b[49m\u001b[43m(\u001b[49m\u001b[43m)\u001b[49m\n\u001b[1;32m     98\u001b[0m         res\u001b[38;5;241m.\u001b[39m_n_inp,res\u001b[38;5;241m.\u001b[39m_types \u001b[38;5;241m=\u001b[39m \u001b[38;5;28mself\u001b[39m\u001b[38;5;241m.\u001b[39m_n_inp,\u001b[38;5;28mself\u001b[39m\u001b[38;5;241m.\u001b[39m_types\n\u001b[1;32m     99\u001b[0m     \u001b[38;5;28;01mexcept\u001b[39;00m \u001b[38;5;167;01mException\u001b[39;00m \u001b[38;5;28;01mas\u001b[39;00m e: \n",
      "File \u001b[0;32m~/Desktop/text_summarization/venv-summarization/lib/python3.10/site-packages/fastai/data/core.py:79\u001b[0m, in \u001b[0;36mTfmdDL._one_pass\u001b[0;34m(self)\u001b[0m\n\u001b[1;32m     77\u001b[0m \u001b[38;5;28;01mdef\u001b[39;00m \u001b[38;5;21m_one_pass\u001b[39m(\u001b[38;5;28mself\u001b[39m):\n\u001b[1;32m     78\u001b[0m     b \u001b[38;5;241m=\u001b[39m \u001b[38;5;28mself\u001b[39m\u001b[38;5;241m.\u001b[39mdo_batch([\u001b[38;5;28mself\u001b[39m\u001b[38;5;241m.\u001b[39mdo_item(\u001b[38;5;28;01mNone\u001b[39;00m)])\n\u001b[0;32m---> 79\u001b[0m     \u001b[38;5;28;01mif\u001b[39;00m \u001b[38;5;28mself\u001b[39m\u001b[38;5;241m.\u001b[39mdevice \u001b[38;5;129;01mis\u001b[39;00m \u001b[38;5;129;01mnot\u001b[39;00m \u001b[38;5;28;01mNone\u001b[39;00m: b \u001b[38;5;241m=\u001b[39m \u001b[43mto_device\u001b[49m\u001b[43m(\u001b[49m\u001b[43mb\u001b[49m\u001b[43m,\u001b[49m\u001b[43m \u001b[49m\u001b[38;5;28;43mself\u001b[39;49m\u001b[38;5;241;43m.\u001b[39;49m\u001b[43mdevice\u001b[49m\u001b[43m)\u001b[49m\n\u001b[1;32m     80\u001b[0m     its \u001b[38;5;241m=\u001b[39m \u001b[38;5;28mself\u001b[39m\u001b[38;5;241m.\u001b[39mafter_batch(b)\n\u001b[1;32m     81\u001b[0m     \u001b[38;5;28mself\u001b[39m\u001b[38;5;241m.\u001b[39m_n_inp \u001b[38;5;241m=\u001b[39m \u001b[38;5;241m1\u001b[39m \u001b[38;5;28;01mif\u001b[39;00m \u001b[38;5;129;01mnot\u001b[39;00m \u001b[38;5;28misinstance\u001b[39m(its, (\u001b[38;5;28mlist\u001b[39m,\u001b[38;5;28mtuple\u001b[39m)) \u001b[38;5;129;01mor\u001b[39;00m \u001b[38;5;28mlen\u001b[39m(its)\u001b[38;5;241m==\u001b[39m\u001b[38;5;241m1\u001b[39m \u001b[38;5;28;01melse\u001b[39;00m \u001b[38;5;28mlen\u001b[39m(its)\u001b[38;5;241m-\u001b[39m\u001b[38;5;241m1\u001b[39m\n",
      "File \u001b[0;32m~/Desktop/text_summarization/venv-summarization/lib/python3.10/site-packages/fastai/torch_core.py:285\u001b[0m, in \u001b[0;36mto_device\u001b[0;34m(b, device, non_blocking)\u001b[0m\n\u001b[1;32m    283\u001b[0m \u001b[38;5;66;03m#         if hasattr(o, \"to_device\"): return o.to_device(device)\u001b[39;00m\n\u001b[1;32m    284\u001b[0m         \u001b[38;5;28;01mreturn\u001b[39;00m o\n\u001b[0;32m--> 285\u001b[0m     \u001b[38;5;28;01mreturn\u001b[39;00m \u001b[43mapply\u001b[49m\u001b[43m(\u001b[49m\u001b[43m_inner\u001b[49m\u001b[43m,\u001b[49m\u001b[43m \u001b[49m\u001b[43mb\u001b[49m\u001b[43m)\u001b[49m\n",
      "File \u001b[0;32m~/Desktop/text_summarization/venv-summarization/lib/python3.10/site-packages/fastai/torch_core.py:222\u001b[0m, in \u001b[0;36mapply\u001b[0;34m(func, x, *args, **kwargs)\u001b[0m\n\u001b[1;32m    220\u001b[0m \u001b[38;5;28;01mdef\u001b[39;00m \u001b[38;5;21mapply\u001b[39m(func, x, \u001b[38;5;241m*\u001b[39margs, \u001b[38;5;241m*\u001b[39m\u001b[38;5;241m*\u001b[39mkwargs):\n\u001b[1;32m    221\u001b[0m     \u001b[38;5;124m\"\u001b[39m\u001b[38;5;124mApply `func` recursively to `x`, passing on args\u001b[39m\u001b[38;5;124m\"\u001b[39m\n\u001b[0;32m--> 222\u001b[0m     \u001b[38;5;28;01mif\u001b[39;00m is_listy(x): \u001b[38;5;28;01mreturn\u001b[39;00m \u001b[38;5;28mtype\u001b[39m(x)([apply(func, o, \u001b[38;5;241m*\u001b[39margs, \u001b[38;5;241m*\u001b[39m\u001b[38;5;241m*\u001b[39mkwargs) \u001b[38;5;28;01mfor\u001b[39;00m o \u001b[38;5;129;01min\u001b[39;00m x])\n\u001b[1;32m    223\u001b[0m     \u001b[38;5;28;01mif\u001b[39;00m \u001b[38;5;28misinstance\u001b[39m(x,\u001b[38;5;28mdict\u001b[39m):  \u001b[38;5;28;01mreturn\u001b[39;00m {k: apply(func, v, \u001b[38;5;241m*\u001b[39margs, \u001b[38;5;241m*\u001b[39m\u001b[38;5;241m*\u001b[39mkwargs) \u001b[38;5;28;01mfor\u001b[39;00m k,v \u001b[38;5;129;01min\u001b[39;00m x\u001b[38;5;241m.\u001b[39mitems()}\n\u001b[1;32m    224\u001b[0m     res \u001b[38;5;241m=\u001b[39m func(x, \u001b[38;5;241m*\u001b[39margs, \u001b[38;5;241m*\u001b[39m\u001b[38;5;241m*\u001b[39mkwargs)\n",
      "File \u001b[0;32m~/Desktop/text_summarization/venv-summarization/lib/python3.10/site-packages/fastai/torch_core.py:222\u001b[0m, in \u001b[0;36m<listcomp>\u001b[0;34m(.0)\u001b[0m\n\u001b[1;32m    220\u001b[0m \u001b[38;5;28;01mdef\u001b[39;00m \u001b[38;5;21mapply\u001b[39m(func, x, \u001b[38;5;241m*\u001b[39margs, \u001b[38;5;241m*\u001b[39m\u001b[38;5;241m*\u001b[39mkwargs):\n\u001b[1;32m    221\u001b[0m     \u001b[38;5;124m\"\u001b[39m\u001b[38;5;124mApply `func` recursively to `x`, passing on args\u001b[39m\u001b[38;5;124m\"\u001b[39m\n\u001b[0;32m--> 222\u001b[0m     \u001b[38;5;28;01mif\u001b[39;00m is_listy(x): \u001b[38;5;28;01mreturn\u001b[39;00m \u001b[38;5;28mtype\u001b[39m(x)([\u001b[43mapply\u001b[49m\u001b[43m(\u001b[49m\u001b[43mfunc\u001b[49m\u001b[43m,\u001b[49m\u001b[43m \u001b[49m\u001b[43mo\u001b[49m\u001b[43m,\u001b[49m\u001b[43m \u001b[49m\u001b[38;5;241;43m*\u001b[39;49m\u001b[43margs\u001b[49m\u001b[43m,\u001b[49m\u001b[43m \u001b[49m\u001b[38;5;241;43m*\u001b[39;49m\u001b[38;5;241;43m*\u001b[39;49m\u001b[43mkwargs\u001b[49m\u001b[43m)\u001b[49m \u001b[38;5;28;01mfor\u001b[39;00m o \u001b[38;5;129;01min\u001b[39;00m x])\n\u001b[1;32m    223\u001b[0m     \u001b[38;5;28;01mif\u001b[39;00m \u001b[38;5;28misinstance\u001b[39m(x,\u001b[38;5;28mdict\u001b[39m):  \u001b[38;5;28;01mreturn\u001b[39;00m {k: apply(func, v, \u001b[38;5;241m*\u001b[39margs, \u001b[38;5;241m*\u001b[39m\u001b[38;5;241m*\u001b[39mkwargs) \u001b[38;5;28;01mfor\u001b[39;00m k,v \u001b[38;5;129;01min\u001b[39;00m x\u001b[38;5;241m.\u001b[39mitems()}\n\u001b[1;32m    224\u001b[0m     res \u001b[38;5;241m=\u001b[39m func(x, \u001b[38;5;241m*\u001b[39margs, \u001b[38;5;241m*\u001b[39m\u001b[38;5;241m*\u001b[39mkwargs)\n",
      "File \u001b[0;32m~/Desktop/text_summarization/venv-summarization/lib/python3.10/site-packages/fastai/torch_core.py:223\u001b[0m, in \u001b[0;36mapply\u001b[0;34m(func, x, *args, **kwargs)\u001b[0m\n\u001b[1;32m    221\u001b[0m \u001b[38;5;124m\"\u001b[39m\u001b[38;5;124mApply `func` recursively to `x`, passing on args\u001b[39m\u001b[38;5;124m\"\u001b[39m\n\u001b[1;32m    222\u001b[0m \u001b[38;5;28;01mif\u001b[39;00m is_listy(x): \u001b[38;5;28;01mreturn\u001b[39;00m \u001b[38;5;28mtype\u001b[39m(x)([apply(func, o, \u001b[38;5;241m*\u001b[39margs, \u001b[38;5;241m*\u001b[39m\u001b[38;5;241m*\u001b[39mkwargs) \u001b[38;5;28;01mfor\u001b[39;00m o \u001b[38;5;129;01min\u001b[39;00m x])\n\u001b[0;32m--> 223\u001b[0m \u001b[38;5;28;01mif\u001b[39;00m \u001b[38;5;28misinstance\u001b[39m(x,\u001b[38;5;28mdict\u001b[39m):  \u001b[38;5;28;01mreturn\u001b[39;00m {k: apply(func, v, \u001b[38;5;241m*\u001b[39margs, \u001b[38;5;241m*\u001b[39m\u001b[38;5;241m*\u001b[39mkwargs) \u001b[38;5;28;01mfor\u001b[39;00m k,v \u001b[38;5;129;01min\u001b[39;00m x\u001b[38;5;241m.\u001b[39mitems()}\n\u001b[1;32m    224\u001b[0m res \u001b[38;5;241m=\u001b[39m func(x, \u001b[38;5;241m*\u001b[39margs, \u001b[38;5;241m*\u001b[39m\u001b[38;5;241m*\u001b[39mkwargs)\n\u001b[1;32m    225\u001b[0m \u001b[38;5;28;01mreturn\u001b[39;00m res \u001b[38;5;28;01mif\u001b[39;00m x \u001b[38;5;129;01mis\u001b[39;00m \u001b[38;5;28;01mNone\u001b[39;00m \u001b[38;5;28;01melse\u001b[39;00m retain_type(res, x)\n",
      "File \u001b[0;32m~/Desktop/text_summarization/venv-summarization/lib/python3.10/site-packages/fastai/torch_core.py:223\u001b[0m, in \u001b[0;36m<dictcomp>\u001b[0;34m(.0)\u001b[0m\n\u001b[1;32m    221\u001b[0m \u001b[38;5;124m\"\u001b[39m\u001b[38;5;124mApply `func` recursively to `x`, passing on args\u001b[39m\u001b[38;5;124m\"\u001b[39m\n\u001b[1;32m    222\u001b[0m \u001b[38;5;28;01mif\u001b[39;00m is_listy(x): \u001b[38;5;28;01mreturn\u001b[39;00m \u001b[38;5;28mtype\u001b[39m(x)([apply(func, o, \u001b[38;5;241m*\u001b[39margs, \u001b[38;5;241m*\u001b[39m\u001b[38;5;241m*\u001b[39mkwargs) \u001b[38;5;28;01mfor\u001b[39;00m o \u001b[38;5;129;01min\u001b[39;00m x])\n\u001b[0;32m--> 223\u001b[0m \u001b[38;5;28;01mif\u001b[39;00m \u001b[38;5;28misinstance\u001b[39m(x,\u001b[38;5;28mdict\u001b[39m):  \u001b[38;5;28;01mreturn\u001b[39;00m {k: \u001b[43mapply\u001b[49m\u001b[43m(\u001b[49m\u001b[43mfunc\u001b[49m\u001b[43m,\u001b[49m\u001b[43m \u001b[49m\u001b[43mv\u001b[49m\u001b[43m,\u001b[49m\u001b[43m \u001b[49m\u001b[38;5;241;43m*\u001b[39;49m\u001b[43margs\u001b[49m\u001b[43m,\u001b[49m\u001b[43m \u001b[49m\u001b[38;5;241;43m*\u001b[39;49m\u001b[38;5;241;43m*\u001b[39;49m\u001b[43mkwargs\u001b[49m\u001b[43m)\u001b[49m \u001b[38;5;28;01mfor\u001b[39;00m k,v \u001b[38;5;129;01min\u001b[39;00m x\u001b[38;5;241m.\u001b[39mitems()}\n\u001b[1;32m    224\u001b[0m res \u001b[38;5;241m=\u001b[39m func(x, \u001b[38;5;241m*\u001b[39margs, \u001b[38;5;241m*\u001b[39m\u001b[38;5;241m*\u001b[39mkwargs)\n\u001b[1;32m    225\u001b[0m \u001b[38;5;28;01mreturn\u001b[39;00m res \u001b[38;5;28;01mif\u001b[39;00m x \u001b[38;5;129;01mis\u001b[39;00m \u001b[38;5;28;01mNone\u001b[39;00m \u001b[38;5;28;01melse\u001b[39;00m retain_type(res, x)\n",
      "File \u001b[0;32m~/Desktop/text_summarization/venv-summarization/lib/python3.10/site-packages/fastai/torch_core.py:224\u001b[0m, in \u001b[0;36mapply\u001b[0;34m(func, x, *args, **kwargs)\u001b[0m\n\u001b[1;32m    222\u001b[0m \u001b[38;5;28;01mif\u001b[39;00m is_listy(x): \u001b[38;5;28;01mreturn\u001b[39;00m \u001b[38;5;28mtype\u001b[39m(x)([apply(func, o, \u001b[38;5;241m*\u001b[39margs, \u001b[38;5;241m*\u001b[39m\u001b[38;5;241m*\u001b[39mkwargs) \u001b[38;5;28;01mfor\u001b[39;00m o \u001b[38;5;129;01min\u001b[39;00m x])\n\u001b[1;32m    223\u001b[0m \u001b[38;5;28;01mif\u001b[39;00m \u001b[38;5;28misinstance\u001b[39m(x,\u001b[38;5;28mdict\u001b[39m):  \u001b[38;5;28;01mreturn\u001b[39;00m {k: apply(func, v, \u001b[38;5;241m*\u001b[39margs, \u001b[38;5;241m*\u001b[39m\u001b[38;5;241m*\u001b[39mkwargs) \u001b[38;5;28;01mfor\u001b[39;00m k,v \u001b[38;5;129;01min\u001b[39;00m x\u001b[38;5;241m.\u001b[39mitems()}\n\u001b[0;32m--> 224\u001b[0m res \u001b[38;5;241m=\u001b[39m \u001b[43mfunc\u001b[49m\u001b[43m(\u001b[49m\u001b[43mx\u001b[49m\u001b[43m,\u001b[49m\u001b[43m \u001b[49m\u001b[38;5;241;43m*\u001b[39;49m\u001b[43margs\u001b[49m\u001b[43m,\u001b[49m\u001b[43m \u001b[49m\u001b[38;5;241;43m*\u001b[39;49m\u001b[38;5;241;43m*\u001b[39;49m\u001b[43mkwargs\u001b[49m\u001b[43m)\u001b[49m\n\u001b[1;32m    225\u001b[0m \u001b[38;5;28;01mreturn\u001b[39;00m res \u001b[38;5;28;01mif\u001b[39;00m x \u001b[38;5;129;01mis\u001b[39;00m \u001b[38;5;28;01mNone\u001b[39;00m \u001b[38;5;28;01melse\u001b[39;00m retain_type(res, x)\n",
      "File \u001b[0;32m~/Desktop/text_summarization/venv-summarization/lib/python3.10/site-packages/fastai/torch_core.py:282\u001b[0m, in \u001b[0;36mto_device.<locals>._inner\u001b[0;34m(o)\u001b[0m\n\u001b[1;32m    281\u001b[0m     \u001b[38;5;28;01mdef\u001b[39;00m \u001b[38;5;21m_inner\u001b[39m(o):\n\u001b[0;32m--> 282\u001b[0m         \u001b[38;5;28;01mif\u001b[39;00m \u001b[38;5;28misinstance\u001b[39m(o,Tensor): \u001b[38;5;28;01mreturn\u001b[39;00m \u001b[43mo\u001b[49m\u001b[38;5;241;43m.\u001b[39;49m\u001b[43mto\u001b[49m\u001b[43m(\u001b[49m\u001b[43mdevice\u001b[49m\u001b[43m,\u001b[49m\u001b[43m \u001b[49m\u001b[43mnon_blocking\u001b[49m\u001b[38;5;241;43m=\u001b[39;49m\u001b[43mnon_blocking\u001b[49m\u001b[43m)\u001b[49m\n\u001b[1;32m    283\u001b[0m \u001b[38;5;66;03m#         if hasattr(o, \"to_device\"): return o.to_device(device)\u001b[39;00m\n\u001b[1;32m    284\u001b[0m         \u001b[38;5;28;01mreturn\u001b[39;00m o\n",
      "\u001b[0;31mRuntimeError\u001b[0m: The MPS backend is supported on MacOS 12.3+.Current OS version can be queried using `sw_vers`"
     ]
    }
   ],
   "source": [
    "#Create mini-batch and define parameters\n",
    "hf_batch_tfm = Seq2SeqBatchTokenizeTransform(hf_arch, hf_config, hf_tokenizer, hf_model, \n",
    "    task='summarization',\n",
    "    text_gen_kwargs=\n",
    " {'max_length': 248,'min_length': 56,'do_sample': False, 'early_stopping': True, 'num_beams': 4, 'temperature': 1.0, \n",
    "  'top_k': 50, 'top_p': 1.0, 'repetition_penalty': 1.0, 'bad_words_ids': None, 'bos_token_id': 0, 'pad_token_id': 1,\n",
    " 'eos_token_id': 2, 'length_penalty': 2.0, 'no_repeat_ngram_size': 3, 'encoder_no_repeat_ngram_size': 0,\n",
    " 'num_return_sequences': 1, 'decoder_start_token_id': 2, 'use_cache': True, 'num_beam_groups': 1,\n",
    " 'diversity_penalty': 0.0, 'output_attentions': False, 'output_hidden_states': False, 'output_scores': False,\n",
    " 'return_dict_in_generate': False, 'forced_bos_token_id': 0, 'forced_eos_token_id': 2, 'remove_invalid_values': False})\n",
    "\n",
    "\n",
    "#Prepare data for training\n",
    "blocks = (Seq2SeqTextBlock(batch_tokenize_tfm=hf_batch_tfm), noop)\n",
    "dblock = DataBlock(blocks=blocks, get_x=ColReader('text'), get_y=ColReader('title'), splitter=RandomSplitter())\n",
    "dls = dblock.dataloaders(articles, bs=2)"
   ]
  },
  {
   "cell_type": "code",
   "execution_count": null,
   "id": "3bf6ca86",
   "metadata": {},
   "outputs": [],
   "source": [
    "#Define performance metrics\n",
    "seq2seq_metrics = {\n",
    "        'rouge': {\n",
    "            'compute_kwargs': { 'rouge_types': [\"rouge1\", \"rouge2\", \"rougeL\"], 'use_stemmer': True },\n",
    "            'returns': [\"rouge1\", \"rouge2\", \"rougeL\"]\n",
    "        },\n",
    "        'bertscore': {\n",
    "            'compute_kwargs': { 'lang': 'fr' },\n",
    "            'returns': [\"precision\", \"recall\", \"f1\"]}}\n",
    "\n",
    "#Model\n",
    "model = HF_BaseModelWrapper(hf_model)\n",
    "learn_cbs = [HF_BaseModelCallback]\n",
    "fit_cbs = [HF_Seq2SeqMetricsCallback(custom_metrics=seq2seq_metrics)]\n",
    "\n",
    "#Specify training\n",
    "learn = Learner(dls, model,\n",
    "                opt_func=ranger,loss_func=CrossEntropyLossFlat(),\n",
    "                cbs=learn_cbs,splitter=partial(seq2seq_splitter, arch=hf_arch)).to_fp16()\n",
    "\n",
    "#Create optimizer with default hyper-parameters\n",
    "learn.create_opt() \n",
    "learn.freeze()\n",
    "\n",
    "#Training\n",
    "learn.fit_one_cycle(3, lr_max=3e-5, cbs=fit_cbs)"
   ]
  },
  {
   "cell_type": "code",
   "execution_count": null,
   "id": "3fb11088",
   "metadata": {},
   "outputs": [],
   "source": [
    "outputs = learn.blurr_generate(text_to_generate, early_stopping=False, num_return_sequences=1)\n",
    "\n",
    "for idx, o in enumerate(outputs):\n",
    "    print(f'=== Prediction {idx+1} ===\\n{o}\\n')"
   ]
  }
 ],
 "metadata": {
  "kernelspec": {
   "display_name": "Python 3 (ipykernel)",
   "language": "python",
   "name": "python3"
  },
  "language_info": {
   "codemirror_mode": {
    "name": "ipython",
    "version": 3
   },
   "file_extension": ".py",
   "mimetype": "text/x-python",
   "name": "python",
   "nbconvert_exporter": "python",
   "pygments_lexer": "ipython3",
   "version": "3.10.7"
  }
 },
 "nbformat": 4,
 "nbformat_minor": 5
}
