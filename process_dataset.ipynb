{
 "cells": [
  {
   "cell_type": "code",
   "execution_count": 52,
   "outputs": [],
   "source": [
    "from datasets import load_dataset\n",
    "from googletrans import Translator, LANGUAGES\n",
    "import pandas as pd\n",
    "from pandarallel import pandarallel\n",
    "import fasttext\n",
    "import fasttext.util"
   ],
   "metadata": {
    "collapsed": false,
    "ExecuteTime": {
     "end_time": "2023-06-09T16:24:25.569622Z",
     "start_time": "2023-06-09T16:24:25.522778Z"
    }
   }
  },
  {
   "cell_type": "code",
   "execution_count": 32,
   "outputs": [
    {
     "name": "stdout",
     "output_type": "stream",
     "text": [
      "INFO: Pandarallel will run on 8 workers.\n",
      "INFO: Pandarallel will use standard multiprocessing data transfer (pipe) to transfer data between the main process and workers.\n"
     ]
    }
   ],
   "source": [
    "pandarallel.initialize()"
   ],
   "metadata": {
    "collapsed": false,
    "ExecuteTime": {
     "end_time": "2023-06-09T16:10:44.013007Z",
     "start_time": "2023-06-09T16:10:44.007581Z"
    }
   }
  },
  {
   "cell_type": "code",
   "execution_count": 39,
   "outputs": [],
   "source": [
    "translator = Translator()"
   ],
   "metadata": {
    "collapsed": false,
    "ExecuteTime": {
     "end_time": "2023-06-09T16:16:26.783598Z",
     "start_time": "2023-06-09T16:16:26.695164Z"
    }
   }
  },
  {
   "cell_type": "code",
   "execution_count": 42,
   "outputs": [
    {
     "data": {
      "text/plain": "{'af': 'afrikaans',\n 'sq': 'albanian',\n 'am': 'amharic',\n 'ar': 'arabic',\n 'hy': 'armenian',\n 'az': 'azerbaijani',\n 'eu': 'basque',\n 'be': 'belarusian',\n 'bn': 'bengali',\n 'bs': 'bosnian',\n 'bg': 'bulgarian',\n 'ca': 'catalan',\n 'ceb': 'cebuano',\n 'ny': 'chichewa',\n 'zh-cn': 'chinese (simplified)',\n 'zh-tw': 'chinese (traditional)',\n 'co': 'corsican',\n 'hr': 'croatian',\n 'cs': 'czech',\n 'da': 'danish',\n 'nl': 'dutch',\n 'en': 'english',\n 'eo': 'esperanto',\n 'et': 'estonian',\n 'tl': 'filipino',\n 'fi': 'finnish',\n 'fr': 'french',\n 'fy': 'frisian',\n 'gl': 'galician',\n 'ka': 'georgian',\n 'de': 'german',\n 'el': 'greek',\n 'gu': 'gujarati',\n 'ht': 'haitian creole',\n 'ha': 'hausa',\n 'haw': 'hawaiian',\n 'iw': 'hebrew',\n 'he': 'hebrew',\n 'hi': 'hindi',\n 'hmn': 'hmong',\n 'hu': 'hungarian',\n 'is': 'icelandic',\n 'ig': 'igbo',\n 'id': 'indonesian',\n 'ga': 'irish',\n 'it': 'italian',\n 'ja': 'japanese',\n 'jw': 'javanese',\n 'kn': 'kannada',\n 'kk': 'kazakh',\n 'km': 'khmer',\n 'ko': 'korean',\n 'ku': 'kurdish (kurmanji)',\n 'ky': 'kyrgyz',\n 'lo': 'lao',\n 'la': 'latin',\n 'lv': 'latvian',\n 'lt': 'lithuanian',\n 'lb': 'luxembourgish',\n 'mk': 'macedonian',\n 'mg': 'malagasy',\n 'ms': 'malay',\n 'ml': 'malayalam',\n 'mt': 'maltese',\n 'mi': 'maori',\n 'mr': 'marathi',\n 'mn': 'mongolian',\n 'my': 'myanmar (burmese)',\n 'ne': 'nepali',\n 'no': 'norwegian',\n 'or': 'odia',\n 'ps': 'pashto',\n 'fa': 'persian',\n 'pl': 'polish',\n 'pt': 'portuguese',\n 'pa': 'punjabi',\n 'ro': 'romanian',\n 'ru': 'russian',\n 'sm': 'samoan',\n 'gd': 'scots gaelic',\n 'sr': 'serbian',\n 'st': 'sesotho',\n 'sn': 'shona',\n 'sd': 'sindhi',\n 'si': 'sinhala',\n 'sk': 'slovak',\n 'sl': 'slovenian',\n 'so': 'somali',\n 'es': 'spanish',\n 'su': 'sundanese',\n 'sw': 'swahili',\n 'sv': 'swedish',\n 'tg': 'tajik',\n 'ta': 'tamil',\n 'te': 'telugu',\n 'th': 'thai',\n 'tr': 'turkish',\n 'uk': 'ukrainian',\n 'ur': 'urdu',\n 'ug': 'uyghur',\n 'uz': 'uzbek',\n 'vi': 'vietnamese',\n 'cy': 'welsh',\n 'xh': 'xhosa',\n 'yi': 'yiddish',\n 'yo': 'yoruba',\n 'zu': 'zulu'}"
     },
     "execution_count": 42,
     "metadata": {},
     "output_type": "execute_result"
    }
   ],
   "source": [
    "LANGUAGES"
   ],
   "metadata": {
    "collapsed": false,
    "ExecuteTime": {
     "end_time": "2023-06-09T16:17:02.066892Z",
     "start_time": "2023-06-09T16:17:02.054713Z"
    }
   }
  },
  {
   "cell_type": "code",
   "execution_count": 2,
   "outputs": [
    {
     "name": "stdout",
     "output_type": "stream",
     "text": [
      "Downloading and preparing dataset cnn_dailymail/3.0.0 to /Users/intrro/.cache/huggingface/datasets/cnn_dailymail/3.0.0/3.0.0/1b3c71476f6d152c31c1730e83ccb08bcf23e348233f4fcc11e182248e6bf7de...\n"
     ]
    },
    {
     "data": {
      "text/plain": "Downloading data files:   0%|          | 0/5 [00:00<?, ?it/s]",
      "application/vnd.jupyter.widget-view+json": {
       "version_major": 2,
       "version_minor": 0,
       "model_id": "b02e77de8d6d41d3817cac274e72570c"
      }
     },
     "metadata": {},
     "output_type": "display_data"
    },
    {
     "data": {
      "text/plain": "Generating train split:   0%|          | 0/287113 [00:00<?, ? examples/s]",
      "application/vnd.jupyter.widget-view+json": {
       "version_major": 2,
       "version_minor": 0,
       "model_id": "7cd8cecc761d4bde9468067a95ee595f"
      }
     },
     "metadata": {},
     "output_type": "display_data"
    },
    {
     "data": {
      "text/plain": "Generating validation split:   0%|          | 0/13368 [00:00<?, ? examples/s]",
      "application/vnd.jupyter.widget-view+json": {
       "version_major": 2,
       "version_minor": 0,
       "model_id": "6479ad6608ca4e69ad50a8ab46b18cb8"
      }
     },
     "metadata": {},
     "output_type": "display_data"
    },
    {
     "data": {
      "text/plain": "Generating test split:   0%|          | 0/11490 [00:00<?, ? examples/s]",
      "application/vnd.jupyter.widget-view+json": {
       "version_major": 2,
       "version_minor": 0,
       "model_id": "a694b6218dac489da87566743f8e925b"
      }
     },
     "metadata": {},
     "output_type": "display_data"
    },
    {
     "name": "stdout",
     "output_type": "stream",
     "text": [
      "Dataset cnn_dailymail downloaded and prepared to /Users/intrro/.cache/huggingface/datasets/cnn_dailymail/3.0.0/3.0.0/1b3c71476f6d152c31c1730e83ccb08bcf23e348233f4fcc11e182248e6bf7de. Subsequent calls will reuse this data.\n"
     ]
    }
   ],
   "source": [
    "dataset = load_dataset('cnn_dailymail', split='train', name='3.0.0')"
   ],
   "metadata": {
    "collapsed": false,
    "ExecuteTime": {
     "end_time": "2023-06-09T15:33:50.094734Z",
     "start_time": "2023-06-09T15:32:37.007309Z"
    }
   }
  },
  {
   "cell_type": "code",
   "execution_count": 10,
   "outputs": [
    {
     "data": {
      "text/plain": "                                                  article  \\\n0       LONDON, England (Reuters) -- Harry Potter star...   \n1       Editor's note: In our Behind the Scenes series...   \n2       MINNEAPOLIS, Minnesota (CNN) -- Drivers who we...   \n3       WASHINGTON (CNN) -- Doctors removed five small...   \n4       (CNN)  -- The National Football League has ind...   \n...                                                   ...   \n287108  The nine-year-old daughter of a black, unarmed...   \n287109  Legalising assisted suicide is a slippery slop...   \n287110  A group calling itself 'The Women of the 99 Pe...   \n287111  Most men enjoy a good pint of lager or real al...   \n287112  A Facebook page seeking to preserve the 'Black...   \n\n                                               highlights  \\\n0       Harry Potter star Daniel Radcliffe gets £20M f...   \n1       Mentally ill inmates in Miami are housed on th...   \n2       NEW: \"I thought I was going to die,\" driver sa...   \n3       Five small polyps found during procedure; \"non...   \n4       NEW: NFL chief, Atlanta Falcons owner critical...   \n...                                                   ...   \n287108  Rumain Brisbon, 34, was killed after Phoenix p...   \n287109  Theo Boer, a European assisted suicide watchdo...   \n287110  Ohio congressman criticised for 'condoning the...   \n287111  The Black Country Ale Tairsters have been to 1...   \n287112  Facebook page supporting tradition gains one m...   \n\n                                              id  \n0       42c027e4ff9730fbb3de84c1af0d2c506e41c3e4  \n1       ee8871b15c50d0db17b0179a6d2beab35065f1e9  \n2       06352019a19ae31e527f37f7571c6dd7f0c5da37  \n3       24521a2abb2e1f5e34e6824e0f9e56904a2b0e88  \n4       7fe70cc8b12fab2d0a258fababf7d9c6b5e1262a  \n...                                          ...  \n287108  279a12d3ee37b8109cc192a9e88115a5a631fb06  \n287109  b5bc9d404a9a5d890c9fc26550b67e6d8d83241f  \n287110  500862586f925e406f8b662934e1a71bbee32463  \n287111  32a1f9e5c37a938c0c0bca1a1559247b9c4334b2  \n287112  8ec9ff4d633dd4cc26d53f503c33f7464b43c36e  \n\n[287113 rows x 3 columns]",
      "text/html": "<div>\n<style scoped>\n    .dataframe tbody tr th:only-of-type {\n        vertical-align: middle;\n    }\n\n    .dataframe tbody tr th {\n        vertical-align: top;\n    }\n\n    .dataframe thead th {\n        text-align: right;\n    }\n</style>\n<table border=\"1\" class=\"dataframe\">\n  <thead>\n    <tr style=\"text-align: right;\">\n      <th></th>\n      <th>article</th>\n      <th>highlights</th>\n      <th>id</th>\n    </tr>\n  </thead>\n  <tbody>\n    <tr>\n      <th>0</th>\n      <td>LONDON, England (Reuters) -- Harry Potter star...</td>\n      <td>Harry Potter star Daniel Radcliffe gets £20M f...</td>\n      <td>42c027e4ff9730fbb3de84c1af0d2c506e41c3e4</td>\n    </tr>\n    <tr>\n      <th>1</th>\n      <td>Editor's note: In our Behind the Scenes series...</td>\n      <td>Mentally ill inmates in Miami are housed on th...</td>\n      <td>ee8871b15c50d0db17b0179a6d2beab35065f1e9</td>\n    </tr>\n    <tr>\n      <th>2</th>\n      <td>MINNEAPOLIS, Minnesota (CNN) -- Drivers who we...</td>\n      <td>NEW: \"I thought I was going to die,\" driver sa...</td>\n      <td>06352019a19ae31e527f37f7571c6dd7f0c5da37</td>\n    </tr>\n    <tr>\n      <th>3</th>\n      <td>WASHINGTON (CNN) -- Doctors removed five small...</td>\n      <td>Five small polyps found during procedure; \"non...</td>\n      <td>24521a2abb2e1f5e34e6824e0f9e56904a2b0e88</td>\n    </tr>\n    <tr>\n      <th>4</th>\n      <td>(CNN)  -- The National Football League has ind...</td>\n      <td>NEW: NFL chief, Atlanta Falcons owner critical...</td>\n      <td>7fe70cc8b12fab2d0a258fababf7d9c6b5e1262a</td>\n    </tr>\n    <tr>\n      <th>...</th>\n      <td>...</td>\n      <td>...</td>\n      <td>...</td>\n    </tr>\n    <tr>\n      <th>287108</th>\n      <td>The nine-year-old daughter of a black, unarmed...</td>\n      <td>Rumain Brisbon, 34, was killed after Phoenix p...</td>\n      <td>279a12d3ee37b8109cc192a9e88115a5a631fb06</td>\n    </tr>\n    <tr>\n      <th>287109</th>\n      <td>Legalising assisted suicide is a slippery slop...</td>\n      <td>Theo Boer, a European assisted suicide watchdo...</td>\n      <td>b5bc9d404a9a5d890c9fc26550b67e6d8d83241f</td>\n    </tr>\n    <tr>\n      <th>287110</th>\n      <td>A group calling itself 'The Women of the 99 Pe...</td>\n      <td>Ohio congressman criticised for 'condoning the...</td>\n      <td>500862586f925e406f8b662934e1a71bbee32463</td>\n    </tr>\n    <tr>\n      <th>287111</th>\n      <td>Most men enjoy a good pint of lager or real al...</td>\n      <td>The Black Country Ale Tairsters have been to 1...</td>\n      <td>32a1f9e5c37a938c0c0bca1a1559247b9c4334b2</td>\n    </tr>\n    <tr>\n      <th>287112</th>\n      <td>A Facebook page seeking to preserve the 'Black...</td>\n      <td>Facebook page supporting tradition gains one m...</td>\n      <td>8ec9ff4d633dd4cc26d53f503c33f7464b43c36e</td>\n    </tr>\n  </tbody>\n</table>\n<p>287113 rows × 3 columns</p>\n</div>"
     },
     "execution_count": 10,
     "metadata": {},
     "output_type": "execute_result"
    }
   ],
   "source": [
    "data"
   ],
   "metadata": {
    "collapsed": false,
    "ExecuteTime": {
     "end_time": "2023-06-09T15:37:19.672346Z",
     "start_time": "2023-06-09T15:37:19.656513Z"
    }
   }
  },
  {
   "cell_type": "code",
   "execution_count": 26,
   "outputs": [],
   "source": [
    "train_data = pd.DataFrame(dataset)\n",
    "sample_train_data = train_data.head()"
   ],
   "metadata": {
    "collapsed": false,
    "ExecuteTime": {
     "end_time": "2023-06-09T16:06:27.995002Z",
     "start_time": "2023-06-09T16:06:17.235364Z"
    }
   }
  },
  {
   "cell_type": "code",
   "execution_count": 27,
   "outputs": [
    {
     "data": {
      "text/plain": "                                             article  \\\n0  LONDON, England (Reuters) -- Harry Potter star...   \n1  Editor's note: In our Behind the Scenes series...   \n2  MINNEAPOLIS, Minnesota (CNN) -- Drivers who we...   \n3  WASHINGTON (CNN) -- Doctors removed five small...   \n4  (CNN)  -- The National Football League has ind...   \n\n                                          highlights  \\\n0  Harry Potter star Daniel Radcliffe gets £20M f...   \n1  Mentally ill inmates in Miami are housed on th...   \n2  NEW: \"I thought I was going to die,\" driver sa...   \n3  Five small polyps found during procedure; \"non...   \n4  NEW: NFL chief, Atlanta Falcons owner critical...   \n\n                                         id  \n0  42c027e4ff9730fbb3de84c1af0d2c506e41c3e4  \n1  ee8871b15c50d0db17b0179a6d2beab35065f1e9  \n2  06352019a19ae31e527f37f7571c6dd7f0c5da37  \n3  24521a2abb2e1f5e34e6824e0f9e56904a2b0e88  \n4  7fe70cc8b12fab2d0a258fababf7d9c6b5e1262a  ",
      "text/html": "<div>\n<style scoped>\n    .dataframe tbody tr th:only-of-type {\n        vertical-align: middle;\n    }\n\n    .dataframe tbody tr th {\n        vertical-align: top;\n    }\n\n    .dataframe thead th {\n        text-align: right;\n    }\n</style>\n<table border=\"1\" class=\"dataframe\">\n  <thead>\n    <tr style=\"text-align: right;\">\n      <th></th>\n      <th>article</th>\n      <th>highlights</th>\n      <th>id</th>\n    </tr>\n  </thead>\n  <tbody>\n    <tr>\n      <th>0</th>\n      <td>LONDON, England (Reuters) -- Harry Potter star...</td>\n      <td>Harry Potter star Daniel Radcliffe gets £20M f...</td>\n      <td>42c027e4ff9730fbb3de84c1af0d2c506e41c3e4</td>\n    </tr>\n    <tr>\n      <th>1</th>\n      <td>Editor's note: In our Behind the Scenes series...</td>\n      <td>Mentally ill inmates in Miami are housed on th...</td>\n      <td>ee8871b15c50d0db17b0179a6d2beab35065f1e9</td>\n    </tr>\n    <tr>\n      <th>2</th>\n      <td>MINNEAPOLIS, Minnesota (CNN) -- Drivers who we...</td>\n      <td>NEW: \"I thought I was going to die,\" driver sa...</td>\n      <td>06352019a19ae31e527f37f7571c6dd7f0c5da37</td>\n    </tr>\n    <tr>\n      <th>3</th>\n      <td>WASHINGTON (CNN) -- Doctors removed five small...</td>\n      <td>Five small polyps found during procedure; \"non...</td>\n      <td>24521a2abb2e1f5e34e6824e0f9e56904a2b0e88</td>\n    </tr>\n    <tr>\n      <th>4</th>\n      <td>(CNN)  -- The National Football League has ind...</td>\n      <td>NEW: NFL chief, Atlanta Falcons owner critical...</td>\n      <td>7fe70cc8b12fab2d0a258fababf7d9c6b5e1262a</td>\n    </tr>\n  </tbody>\n</table>\n</div>"
     },
     "execution_count": 27,
     "metadata": {},
     "output_type": "execute_result"
    }
   ],
   "source": [
    "sample_train_data"
   ],
   "metadata": {
    "collapsed": false,
    "ExecuteTime": {
     "end_time": "2023-06-09T16:06:29.409545Z",
     "start_time": "2023-06-09T16:06:29.376370Z"
    }
   }
  },
  {
   "cell_type": "code",
   "execution_count": 61,
   "outputs": [
    {
     "name": "stderr",
     "output_type": "stream",
     "text": [
      "Warning : `load_model` does not return WordVectorModel or SupervisedModel any more, but a `FastText` object which is very similar.\n"
     ]
    }
   ],
   "source": [
    "ft = fasttext.load_model('cc.ka.300.bin')"
   ],
   "metadata": {
    "collapsed": false,
    "ExecuteTime": {
     "end_time": "2023-06-09T16:42:47.720103Z",
     "start_time": "2023-06-09T16:42:47.652302Z"
    }
   }
  },
  {
   "cell_type": "code",
   "execution_count": 50,
   "outputs": [
    {
     "name": "stderr",
     "output_type": "stream",
     "text": [
      "/var/folders/gk/9w8xz9lx5zj0176jtx7d4s0h0000gn/T/ipykernel_93751/401560289.py:1: SettingWithCopyWarning: \n",
      "A value is trying to be set on a copy of a slice from a DataFrame.\n",
      "Try using .loc[row_indexer,col_indexer] = value instead\n",
      "\n",
      "See the caveats in the documentation: https://pandas.pydata.org/pandas-docs/stable/user_guide/indexing.html#returning-a-view-versus-a-copy\n",
      "  sample_train_data['geo_highlights'] = sample_train_data['highlights'].apply(lambda row: translator.translate(row, dest='ka').text)\n",
      "/var/folders/gk/9w8xz9lx5zj0176jtx7d4s0h0000gn/T/ipykernel_93751/401560289.py:2: SettingWithCopyWarning: \n",
      "A value is trying to be set on a copy of a slice from a DataFrame.\n",
      "Try using .loc[row_indexer,col_indexer] = value instead\n",
      "\n",
      "See the caveats in the documentation: https://pandas.pydata.org/pandas-docs/stable/user_guide/indexing.html#returning-a-view-versus-a-copy\n",
      "  sample_train_data['geo_article'] = sample_train_data['article'].apply(lambda row: translator.translate(row, dest='ka').text)\n"
     ]
    }
   ],
   "source": [
    "sample_train_data['geo_highlights'] = sample_train_data['highlights'].apply(lambda row: translator.translate(row, dest='ka').text)\n",
    "sample_train_data['geo_article'] = sample_train_data['article'].apply(lambda row: translator.translate(row, dest='ka').text)"
   ],
   "metadata": {
    "collapsed": false,
    "ExecuteTime": {
     "end_time": "2023-06-09T16:20:09.416909Z",
     "start_time": "2023-06-09T16:20:04.041759Z"
    }
   }
  },
  {
   "cell_type": "code",
   "execution_count": 60,
   "outputs": [
    {
     "name": "stderr",
     "output_type": "stream",
     "text": [
      "/var/folders/gk/9w8xz9lx5zj0176jtx7d4s0h0000gn/T/ipykernel_93751/2925248234.py:1: SettingWithCopyWarning: \n",
      "A value is trying to be set on a copy of a slice from a DataFrame.\n",
      "Try using .loc[row_indexer,col_indexer] = value instead\n",
      "\n",
      "See the caveats in the documentation: https://pandas.pydata.org/pandas-docs/stable/user_guide/indexing.html#returning-a-view-versus-a-copy\n",
      "  sample_train_data['geo_highlights_vector'] = sample_train_data['geo_highlights'].apply(lambda row:row.split())\n",
      "/var/folders/gk/9w8xz9lx5zj0176jtx7d4s0h0000gn/T/ipykernel_93751/2925248234.py:2: SettingWithCopyWarning: \n",
      "A value is trying to be set on a copy of a slice from a DataFrame.\n",
      "Try using .loc[row_indexer,col_indexer] = value instead\n",
      "\n",
      "See the caveats in the documentation: https://pandas.pydata.org/pandas-docs/stable/user_guide/indexing.html#returning-a-view-versus-a-copy\n",
      "  sample_train_data['geo_article_vector'] = sample_train_data['geo_article'].apply(lambda row:row.split())\n"
     ]
    }
   ],
   "source": [
    "sample_train_data['geo_highlights_vector'] = sample_train_data['geo_highlights'].apply(lambda row:row.split())\n",
    "sample_train_data['geo_article_vector'] = sample_train_data['geo_article'].apply(lambda row:row.split())"
   ],
   "metadata": {
    "collapsed": false,
    "ExecuteTime": {
     "end_time": "2023-06-09T16:42:07.898141Z",
     "start_time": "2023-06-09T16:42:07.881004Z"
    }
   }
  },
  {
   "cell_type": "code",
   "execution_count": 63,
   "outputs": [
    {
     "name": "stderr",
     "output_type": "stream",
     "text": [
      "/var/folders/gk/9w8xz9lx5zj0176jtx7d4s0h0000gn/T/ipykernel_93751/179033157.py:1: SettingWithCopyWarning: \n",
      "A value is trying to be set on a copy of a slice from a DataFrame.\n",
      "Try using .loc[row_indexer,col_indexer] = value instead\n",
      "\n",
      "See the caveats in the documentation: https://pandas.pydata.org/pandas-docs/stable/user_guide/indexing.html#returning-a-view-versus-a-copy\n",
      "  sample_train_data['geo_highlights_vector'] = sample_train_data['geo_highlights'].apply(lambda row:[ft.get_word_vector(ob) for ob in row])\n",
      "/var/folders/gk/9w8xz9lx5zj0176jtx7d4s0h0000gn/T/ipykernel_93751/179033157.py:2: SettingWithCopyWarning: \n",
      "A value is trying to be set on a copy of a slice from a DataFrame.\n",
      "Try using .loc[row_indexer,col_indexer] = value instead\n",
      "\n",
      "See the caveats in the documentation: https://pandas.pydata.org/pandas-docs/stable/user_guide/indexing.html#returning-a-view-versus-a-copy\n",
      "  sample_train_data['geo_article_vector'] = sample_train_data['geo_article'].apply(lambda row:[ft.get_word_vector(ob) for ob in row])\n"
     ]
    }
   ],
   "source": [
    "sample_train_data['geo_highlights_vector'] = sample_train_data['geo_highlights'].apply(lambda row:[ft.get_word_vector(ob) for ob in row])\n",
    "sample_train_data['geo_article_vector'] = sample_train_data['geo_article'].apply(lambda row:[ft.get_word_vector(ob) for ob in row])"
   ],
   "metadata": {
    "collapsed": false,
    "ExecuteTime": {
     "end_time": "2023-06-09T16:43:49.057261Z",
     "start_time": "2023-06-09T16:43:48.611717Z"
    }
   }
  },
  {
   "cell_type": "code",
   "execution_count": 64,
   "outputs": [
    {
     "data": {
      "text/plain": "                                             article  \\\n0  LONDON, England (Reuters) -- Harry Potter star...   \n1  Editor's note: In our Behind the Scenes series...   \n2  MINNEAPOLIS, Minnesota (CNN) -- Drivers who we...   \n3  WASHINGTON (CNN) -- Doctors removed five small...   \n4  (CNN)  -- The National Football League has ind...   \n\n                                          highlights  \\\n0  Harry Potter star Daniel Radcliffe gets £20M f...   \n1  Mentally ill inmates in Miami are housed on th...   \n2  NEW: \"I thought I was going to die,\" driver sa...   \n3  Five small polyps found during procedure; \"non...   \n4  NEW: NFL chief, Atlanta Falcons owner critical...   \n\n                                         id  \\\n0  42c027e4ff9730fbb3de84c1af0d2c506e41c3e4   \n1  ee8871b15c50d0db17b0179a6d2beab35065f1e9   \n2  06352019a19ae31e527f37f7571c6dd7f0c5da37   \n3  24521a2abb2e1f5e34e6824e0f9e56904a2b0e88   \n4  7fe70cc8b12fab2d0a258fababf7d9c6b5e1262a   \n\n                                      geo_highlights  \\\n0  ჰარი პოტერის ვარსკვლავი დენიელ რედკლიფი ორშაბა...   \n1  მაიამიში ფსიქიურად დაავადებული პატიმრები \"მივი...   \n2  ახალი: „მეგონა მოვკვდებოდი“, ამბობს მძღოლი.\\nკ...   \n3  პროცედურის დროს აღმოჩენილი ხუთი პატარა პოლიპი;...   \n4  ახალი: NFL-ის უფროსი, Atlanta Falcons-ის მფლობ...   \n\n                                         geo_article  \\\n0  ლონდონი, ინგლისი (როიტერი) -- ჰარი პოტერის ვარ...   \n1  რედაქტორის შენიშვნა: ჩვენს სერიებში, კულისებში...   \n2  მინეაპოლისი, მინესოტა (CNN) - მძღოლებმა, რომლე...   \n3  ვაშინგტონი (CNN) - ექიმებმა შაბათს პრეზიდენტ ბ...   \n4  (CNN) - ეროვნულმა საფეხბურთო ლიგამ განუსაზღვრე...   \n\n                               geo_highlights_vector  \\\n0  [[-0.059350174, -0.09026988, -0.1698816, 0.051...   \n1  [[-0.00038819277, -0.119878404, -0.1472499, 0....   \n2  [[0.097816035, -0.11527624, -0.07165637, -0.03...   \n3  [[-0.14166206, -0.12782975, 0.00626321, -0.041...   \n4  [[0.097816035, -0.11527624, -0.07165637, -0.03...   \n\n                                  geo_article_vector  \n0  [[-0.044468567, -0.1750283, -0.11576537, 0.073...  \n1  [[0.018770188, -0.09589261, -0.080980316, 0.02...  \n2  [[-0.00038819277, -0.119878404, -0.1472499, 0....  \n3  [[-0.021756032, -0.13187249, -0.13848904, -0.1...  \n4  [[-0.043408908, -0.15390097, -0.07080208, -0.0...  ",
      "text/html": "<div>\n<style scoped>\n    .dataframe tbody tr th:only-of-type {\n        vertical-align: middle;\n    }\n\n    .dataframe tbody tr th {\n        vertical-align: top;\n    }\n\n    .dataframe thead th {\n        text-align: right;\n    }\n</style>\n<table border=\"1\" class=\"dataframe\">\n  <thead>\n    <tr style=\"text-align: right;\">\n      <th></th>\n      <th>article</th>\n      <th>highlights</th>\n      <th>id</th>\n      <th>geo_highlights</th>\n      <th>geo_article</th>\n      <th>geo_highlights_vector</th>\n      <th>geo_article_vector</th>\n    </tr>\n  </thead>\n  <tbody>\n    <tr>\n      <th>0</th>\n      <td>LONDON, England (Reuters) -- Harry Potter star...</td>\n      <td>Harry Potter star Daniel Radcliffe gets £20M f...</td>\n      <td>42c027e4ff9730fbb3de84c1af0d2c506e41c3e4</td>\n      <td>ჰარი პოტერის ვარსკვლავი დენიელ რედკლიფი ორშაბა...</td>\n      <td>ლონდონი, ინგლისი (როიტერი) -- ჰარი პოტერის ვარ...</td>\n      <td>[[-0.059350174, -0.09026988, -0.1698816, 0.051...</td>\n      <td>[[-0.044468567, -0.1750283, -0.11576537, 0.073...</td>\n    </tr>\n    <tr>\n      <th>1</th>\n      <td>Editor's note: In our Behind the Scenes series...</td>\n      <td>Mentally ill inmates in Miami are housed on th...</td>\n      <td>ee8871b15c50d0db17b0179a6d2beab35065f1e9</td>\n      <td>მაიამიში ფსიქიურად დაავადებული პატიმრები \"მივი...</td>\n      <td>რედაქტორის შენიშვნა: ჩვენს სერიებში, კულისებში...</td>\n      <td>[[-0.00038819277, -0.119878404, -0.1472499, 0....</td>\n      <td>[[0.018770188, -0.09589261, -0.080980316, 0.02...</td>\n    </tr>\n    <tr>\n      <th>2</th>\n      <td>MINNEAPOLIS, Minnesota (CNN) -- Drivers who we...</td>\n      <td>NEW: \"I thought I was going to die,\" driver sa...</td>\n      <td>06352019a19ae31e527f37f7571c6dd7f0c5da37</td>\n      <td>ახალი: „მეგონა მოვკვდებოდი“, ამბობს მძღოლი.\\nკ...</td>\n      <td>მინეაპოლისი, მინესოტა (CNN) - მძღოლებმა, რომლე...</td>\n      <td>[[0.097816035, -0.11527624, -0.07165637, -0.03...</td>\n      <td>[[-0.00038819277, -0.119878404, -0.1472499, 0....</td>\n    </tr>\n    <tr>\n      <th>3</th>\n      <td>WASHINGTON (CNN) -- Doctors removed five small...</td>\n      <td>Five small polyps found during procedure; \"non...</td>\n      <td>24521a2abb2e1f5e34e6824e0f9e56904a2b0e88</td>\n      <td>პროცედურის დროს აღმოჩენილი ხუთი პატარა პოლიპი;...</td>\n      <td>ვაშინგტონი (CNN) - ექიმებმა შაბათს პრეზიდენტ ბ...</td>\n      <td>[[-0.14166206, -0.12782975, 0.00626321, -0.041...</td>\n      <td>[[-0.021756032, -0.13187249, -0.13848904, -0.1...</td>\n    </tr>\n    <tr>\n      <th>4</th>\n      <td>(CNN)  -- The National Football League has ind...</td>\n      <td>NEW: NFL chief, Atlanta Falcons owner critical...</td>\n      <td>7fe70cc8b12fab2d0a258fababf7d9c6b5e1262a</td>\n      <td>ახალი: NFL-ის უფროსი, Atlanta Falcons-ის მფლობ...</td>\n      <td>(CNN) - ეროვნულმა საფეხბურთო ლიგამ განუსაზღვრე...</td>\n      <td>[[0.097816035, -0.11527624, -0.07165637, -0.03...</td>\n      <td>[[-0.043408908, -0.15390097, -0.07080208, -0.0...</td>\n    </tr>\n  </tbody>\n</table>\n</div>"
     },
     "execution_count": 64,
     "metadata": {},
     "output_type": "execute_result"
    }
   ],
   "source": [
    "sample_train_data"
   ],
   "metadata": {
    "collapsed": false,
    "ExecuteTime": {
     "end_time": "2023-06-09T16:43:59.240099Z",
     "start_time": "2023-06-09T16:43:58.947301Z"
    }
   }
  },
  {
   "cell_type": "code",
   "execution_count": null,
   "outputs": [],
   "source": [],
   "metadata": {
    "collapsed": false
   }
  }
 ],
 "metadata": {
  "kernelspec": {
   "display_name": "Python 3",
   "language": "python",
   "name": "python3"
  },
  "language_info": {
   "codemirror_mode": {
    "name": "ipython",
    "version": 2
   },
   "file_extension": ".py",
   "mimetype": "text/x-python",
   "name": "python",
   "nbconvert_exporter": "python",
   "pygments_lexer": "ipython2",
   "version": "2.7.6"
  }
 },
 "nbformat": 4,
 "nbformat_minor": 0
}
