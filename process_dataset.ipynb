{
 "cells": [
  {
   "cell_type": "code",
   "execution_count": 9,
   "outputs": [],
   "source": [
    "from datasets import load_dataset\n",
    "from googletrans import Translator\n",
    "import pandas as pd"
   ],
   "metadata": {
    "collapsed": false,
    "ExecuteTime": {
     "end_time": "2023-06-09T15:37:17.201422Z",
     "start_time": "2023-06-09T15:37:17.190308Z"
    }
   }
  },
  {
   "cell_type": "code",
   "execution_count": 11,
   "outputs": [],
   "source": [
    "translator = Translator()"
   ],
   "metadata": {
    "collapsed": false,
    "ExecuteTime": {
     "end_time": "2023-06-09T15:38:32.573313Z",
     "start_time": "2023-06-09T15:38:32.528731Z"
    }
   }
  },
  {
   "cell_type": "code",
   "execution_count": 2,
   "outputs": [
    {
     "name": "stdout",
     "output_type": "stream",
     "text": [
      "Downloading and preparing dataset cnn_dailymail/3.0.0 to /Users/intrro/.cache/huggingface/datasets/cnn_dailymail/3.0.0/3.0.0/1b3c71476f6d152c31c1730e83ccb08bcf23e348233f4fcc11e182248e6bf7de...\n"
     ]
    },
    {
     "data": {
      "text/plain": "Downloading data files:   0%|          | 0/5 [00:00<?, ?it/s]",
      "application/vnd.jupyter.widget-view+json": {
       "version_major": 2,
       "version_minor": 0,
       "model_id": "b02e77de8d6d41d3817cac274e72570c"
      }
     },
     "metadata": {},
     "output_type": "display_data"
    },
    {
     "data": {
      "text/plain": "Generating train split:   0%|          | 0/287113 [00:00<?, ? examples/s]",
      "application/vnd.jupyter.widget-view+json": {
       "version_major": 2,
       "version_minor": 0,
       "model_id": "7cd8cecc761d4bde9468067a95ee595f"
      }
     },
     "metadata": {},
     "output_type": "display_data"
    },
    {
     "data": {
      "text/plain": "Generating validation split:   0%|          | 0/13368 [00:00<?, ? examples/s]",
      "application/vnd.jupyter.widget-view+json": {
       "version_major": 2,
       "version_minor": 0,
       "model_id": "6479ad6608ca4e69ad50a8ab46b18cb8"
      }
     },
     "metadata": {},
     "output_type": "display_data"
    },
    {
     "data": {
      "text/plain": "Generating test split:   0%|          | 0/11490 [00:00<?, ? examples/s]",
      "application/vnd.jupyter.widget-view+json": {
       "version_major": 2,
       "version_minor": 0,
       "model_id": "a694b6218dac489da87566743f8e925b"
      }
     },
     "metadata": {},
     "output_type": "display_data"
    },
    {
     "name": "stdout",
     "output_type": "stream",
     "text": [
      "Dataset cnn_dailymail downloaded and prepared to /Users/intrro/.cache/huggingface/datasets/cnn_dailymail/3.0.0/3.0.0/1b3c71476f6d152c31c1730e83ccb08bcf23e348233f4fcc11e182248e6bf7de. Subsequent calls will reuse this data.\n"
     ]
    }
   ],
   "source": [
    "dataset = load_dataset('cnn_dailymail', split='train', name='3.0.0')"
   ],
   "metadata": {
    "collapsed": false,
    "ExecuteTime": {
     "end_time": "2023-06-09T15:33:50.094734Z",
     "start_time": "2023-06-09T15:32:37.007309Z"
    }
   }
  },
  {
   "cell_type": "code",
   "execution_count": 10,
   "outputs": [
    {
     "data": {
      "text/plain": "                                                  article  \\\n0       LONDON, England (Reuters) -- Harry Potter star...   \n1       Editor's note: In our Behind the Scenes series...   \n2       MINNEAPOLIS, Minnesota (CNN) -- Drivers who we...   \n3       WASHINGTON (CNN) -- Doctors removed five small...   \n4       (CNN)  -- The National Football League has ind...   \n...                                                   ...   \n287108  The nine-year-old daughter of a black, unarmed...   \n287109  Legalising assisted suicide is a slippery slop...   \n287110  A group calling itself 'The Women of the 99 Pe...   \n287111  Most men enjoy a good pint of lager or real al...   \n287112  A Facebook page seeking to preserve the 'Black...   \n\n                                               highlights  \\\n0       Harry Potter star Daniel Radcliffe gets £20M f...   \n1       Mentally ill inmates in Miami are housed on th...   \n2       NEW: \"I thought I was going to die,\" driver sa...   \n3       Five small polyps found during procedure; \"non...   \n4       NEW: NFL chief, Atlanta Falcons owner critical...   \n...                                                   ...   \n287108  Rumain Brisbon, 34, was killed after Phoenix p...   \n287109  Theo Boer, a European assisted suicide watchdo...   \n287110  Ohio congressman criticised for 'condoning the...   \n287111  The Black Country Ale Tairsters have been to 1...   \n287112  Facebook page supporting tradition gains one m...   \n\n                                              id  \n0       42c027e4ff9730fbb3de84c1af0d2c506e41c3e4  \n1       ee8871b15c50d0db17b0179a6d2beab35065f1e9  \n2       06352019a19ae31e527f37f7571c6dd7f0c5da37  \n3       24521a2abb2e1f5e34e6824e0f9e56904a2b0e88  \n4       7fe70cc8b12fab2d0a258fababf7d9c6b5e1262a  \n...                                          ...  \n287108  279a12d3ee37b8109cc192a9e88115a5a631fb06  \n287109  b5bc9d404a9a5d890c9fc26550b67e6d8d83241f  \n287110  500862586f925e406f8b662934e1a71bbee32463  \n287111  32a1f9e5c37a938c0c0bca1a1559247b9c4334b2  \n287112  8ec9ff4d633dd4cc26d53f503c33f7464b43c36e  \n\n[287113 rows x 3 columns]",
      "text/html": "<div>\n<style scoped>\n    .dataframe tbody tr th:only-of-type {\n        vertical-align: middle;\n    }\n\n    .dataframe tbody tr th {\n        vertical-align: top;\n    }\n\n    .dataframe thead th {\n        text-align: right;\n    }\n</style>\n<table border=\"1\" class=\"dataframe\">\n  <thead>\n    <tr style=\"text-align: right;\">\n      <th></th>\n      <th>article</th>\n      <th>highlights</th>\n      <th>id</th>\n    </tr>\n  </thead>\n  <tbody>\n    <tr>\n      <th>0</th>\n      <td>LONDON, England (Reuters) -- Harry Potter star...</td>\n      <td>Harry Potter star Daniel Radcliffe gets £20M f...</td>\n      <td>42c027e4ff9730fbb3de84c1af0d2c506e41c3e4</td>\n    </tr>\n    <tr>\n      <th>1</th>\n      <td>Editor's note: In our Behind the Scenes series...</td>\n      <td>Mentally ill inmates in Miami are housed on th...</td>\n      <td>ee8871b15c50d0db17b0179a6d2beab35065f1e9</td>\n    </tr>\n    <tr>\n      <th>2</th>\n      <td>MINNEAPOLIS, Minnesota (CNN) -- Drivers who we...</td>\n      <td>NEW: \"I thought I was going to die,\" driver sa...</td>\n      <td>06352019a19ae31e527f37f7571c6dd7f0c5da37</td>\n    </tr>\n    <tr>\n      <th>3</th>\n      <td>WASHINGTON (CNN) -- Doctors removed five small...</td>\n      <td>Five small polyps found during procedure; \"non...</td>\n      <td>24521a2abb2e1f5e34e6824e0f9e56904a2b0e88</td>\n    </tr>\n    <tr>\n      <th>4</th>\n      <td>(CNN)  -- The National Football League has ind...</td>\n      <td>NEW: NFL chief, Atlanta Falcons owner critical...</td>\n      <td>7fe70cc8b12fab2d0a258fababf7d9c6b5e1262a</td>\n    </tr>\n    <tr>\n      <th>...</th>\n      <td>...</td>\n      <td>...</td>\n      <td>...</td>\n    </tr>\n    <tr>\n      <th>287108</th>\n      <td>The nine-year-old daughter of a black, unarmed...</td>\n      <td>Rumain Brisbon, 34, was killed after Phoenix p...</td>\n      <td>279a12d3ee37b8109cc192a9e88115a5a631fb06</td>\n    </tr>\n    <tr>\n      <th>287109</th>\n      <td>Legalising assisted suicide is a slippery slop...</td>\n      <td>Theo Boer, a European assisted suicide watchdo...</td>\n      <td>b5bc9d404a9a5d890c9fc26550b67e6d8d83241f</td>\n    </tr>\n    <tr>\n      <th>287110</th>\n      <td>A group calling itself 'The Women of the 99 Pe...</td>\n      <td>Ohio congressman criticised for 'condoning the...</td>\n      <td>500862586f925e406f8b662934e1a71bbee32463</td>\n    </tr>\n    <tr>\n      <th>287111</th>\n      <td>Most men enjoy a good pint of lager or real al...</td>\n      <td>The Black Country Ale Tairsters have been to 1...</td>\n      <td>32a1f9e5c37a938c0c0bca1a1559247b9c4334b2</td>\n    </tr>\n    <tr>\n      <th>287112</th>\n      <td>A Facebook page seeking to preserve the 'Black...</td>\n      <td>Facebook page supporting tradition gains one m...</td>\n      <td>8ec9ff4d633dd4cc26d53f503c33f7464b43c36e</td>\n    </tr>\n  </tbody>\n</table>\n<p>287113 rows × 3 columns</p>\n</div>"
     },
     "execution_count": 10,
     "metadata": {},
     "output_type": "execute_result"
    }
   ],
   "source": [
    "data"
   ],
   "metadata": {
    "collapsed": false,
    "ExecuteTime": {
     "end_time": "2023-06-09T15:37:19.672346Z",
     "start_time": "2023-06-09T15:37:19.656513Z"
    }
   }
  },
  {
   "cell_type": "code",
   "execution_count": 8,
   "outputs": [],
   "source": [
    "data = pd.DataFrame(dataset)"
   ],
   "metadata": {
    "collapsed": false,
    "ExecuteTime": {
     "end_time": "2023-06-09T15:37:04.359927Z",
     "start_time": "2023-06-09T15:36:55.452892Z"
    }
   }
  },
  {
   "cell_type": "code",
   "execution_count": null,
   "outputs": [],
   "source": [
    "data['geo_article'] = data['article'].apply(lambda row: translator.translate(row))"
   ],
   "metadata": {
    "collapsed": false,
    "is_executing": true,
    "ExecuteTime": {
     "start_time": "2023-06-09T15:38:48.609069Z"
    }
   }
  },
  {
   "cell_type": "code",
   "execution_count": null,
   "outputs": [],
   "source": [],
   "metadata": {
    "collapsed": false
   }
  }
 ],
 "metadata": {
  "kernelspec": {
   "display_name": "Python 3",
   "language": "python",
   "name": "python3"
  },
  "language_info": {
   "codemirror_mode": {
    "name": "ipython",
    "version": 2
   },
   "file_extension": ".py",
   "mimetype": "text/x-python",
   "name": "python",
   "nbconvert_exporter": "python",
   "pygments_lexer": "ipython2",
   "version": "2.7.6"
  }
 },
 "nbformat": 4,
 "nbformat_minor": 0
}
